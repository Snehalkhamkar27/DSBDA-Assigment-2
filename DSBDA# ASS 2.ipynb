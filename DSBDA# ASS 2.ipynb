{
 "cells": [
  {
   "cell_type": "code",
   "execution_count": 1,
   "metadata": {
    "id": "43_Cl-LuYzs1"
   },
   "outputs": [],
   "source": [
    "import pandas as pd"
   ]
  },
  {
   "cell_type": "code",
   "execution_count": 2,
   "metadata": {
    "id": "oOhg26y_PfmE"
   },
   "outputs": [],
   "source": [
    "df=pd.read_csv('C:/Users/coeco/Downloads/my data set - Sheet1.csv')"
   ]
  },
  {
   "cell_type": "code",
   "execution_count": 3,
   "metadata": {
    "id": "ndnVFkSAiPNt"
   },
   "outputs": [],
   "source": [
    "df1=df\n",
    "df2=df1\n",
    "df3=df\n",
    "df4=df"
   ]
  },
  {
   "cell_type": "code",
   "execution_count": 4,
   "metadata": {
    "colab": {
     "base_uri": "https://localhost:8080/",
     "height": 959
    },
    "id": "MpOnyURkiZPG",
    "outputId": "dfdb4c49-044c-407e-d84c-972740f477f2"
   },
   "outputs": [
    {
     "data": {
      "text/html": [
       "<div>\n",
       "<style scoped>\n",
       "    .dataframe tbody tr th:only-of-type {\n",
       "        vertical-align: middle;\n",
       "    }\n",
       "\n",
       "    .dataframe tbody tr th {\n",
       "        vertical-align: top;\n",
       "    }\n",
       "\n",
       "    .dataframe thead th {\n",
       "        text-align: right;\n",
       "    }\n",
       "</style>\n",
       "<table border=\"1\" class=\"dataframe\">\n",
       "  <thead>\n",
       "    <tr style=\"text-align: right;\">\n",
       "      <th></th>\n",
       "      <th>Gender</th>\n",
       "      <th>Math score</th>\n",
       "      <th>Reading score</th>\n",
       "      <th>Writing score</th>\n",
       "      <th>Placement score</th>\n",
       "      <th>Club join year</th>\n",
       "      <th>Placement offer count</th>\n",
       "    </tr>\n",
       "  </thead>\n",
       "  <tbody>\n",
       "    <tr>\n",
       "      <th>0</th>\n",
       "      <td>M</td>\n",
       "      <td>64.0</td>\n",
       "      <td>77.0</td>\n",
       "      <td>76.0</td>\n",
       "      <td>89.0</td>\n",
       "      <td>2020</td>\n",
       "      <td>1</td>\n",
       "    </tr>\n",
       "    <tr>\n",
       "      <th>1</th>\n",
       "      <td>F</td>\n",
       "      <td>65.0</td>\n",
       "      <td>74.0</td>\n",
       "      <td>72.0</td>\n",
       "      <td>87.0</td>\n",
       "      <td>2021</td>\n",
       "      <td>2</td>\n",
       "    </tr>\n",
       "    <tr>\n",
       "      <th>2</th>\n",
       "      <td>m</td>\n",
       "      <td>63.0</td>\n",
       "      <td>83.0</td>\n",
       "      <td>82.0</td>\n",
       "      <td>NaN</td>\n",
       "      <td>2020</td>\n",
       "      <td>1</td>\n",
       "    </tr>\n",
       "    <tr>\n",
       "      <th>3</th>\n",
       "      <td>F</td>\n",
       "      <td>65.0</td>\n",
       "      <td>87.0</td>\n",
       "      <td>86.0</td>\n",
       "      <td>88.0</td>\n",
       "      <td>2020</td>\n",
       "      <td>1</td>\n",
       "    </tr>\n",
       "    <tr>\n",
       "      <th>4</th>\n",
       "      <td>M</td>\n",
       "      <td>64.0</td>\n",
       "      <td>72.0</td>\n",
       "      <td>86.0</td>\n",
       "      <td>89.0</td>\n",
       "      <td>2021</td>\n",
       "      <td>1</td>\n",
       "    </tr>\n",
       "    <tr>\n",
       "      <th>5</th>\n",
       "      <td>F</td>\n",
       "      <td>78.0</td>\n",
       "      <td>73.0</td>\n",
       "      <td>87.0</td>\n",
       "      <td>89.0</td>\n",
       "      <td>2021</td>\n",
       "      <td>2</td>\n",
       "    </tr>\n",
       "    <tr>\n",
       "      <th>6</th>\n",
       "      <td>m</td>\n",
       "      <td>NaN</td>\n",
       "      <td>80.0</td>\n",
       "      <td>67.0</td>\n",
       "      <td>90.0</td>\n",
       "      <td>2021</td>\n",
       "      <td>1</td>\n",
       "    </tr>\n",
       "    <tr>\n",
       "      <th>7</th>\n",
       "      <td>F</td>\n",
       "      <td>62.0</td>\n",
       "      <td>NaN</td>\n",
       "      <td>68.0</td>\n",
       "      <td>88.0</td>\n",
       "      <td>2021</td>\n",
       "      <td>1</td>\n",
       "    </tr>\n",
       "    <tr>\n",
       "      <th>8</th>\n",
       "      <td>M</td>\n",
       "      <td>66.0</td>\n",
       "      <td>77.0</td>\n",
       "      <td>68.0</td>\n",
       "      <td>88.0</td>\n",
       "      <td>2020</td>\n",
       "      <td>1</td>\n",
       "    </tr>\n",
       "    <tr>\n",
       "      <th>9</th>\n",
       "      <td>F</td>\n",
       "      <td>75.0</td>\n",
       "      <td>71.0</td>\n",
       "      <td>87.0</td>\n",
       "      <td>89.0</td>\n",
       "      <td>2022</td>\n",
       "      <td>1</td>\n",
       "    </tr>\n",
       "    <tr>\n",
       "      <th>10</th>\n",
       "      <td>M</td>\n",
       "      <td>76.0</td>\n",
       "      <td>89.0</td>\n",
       "      <td>87.0</td>\n",
       "      <td>87.0</td>\n",
       "      <td>2021</td>\n",
       "      <td>1</td>\n",
       "    </tr>\n",
       "    <tr>\n",
       "      <th>11</th>\n",
       "      <td>F</td>\n",
       "      <td>64.0</td>\n",
       "      <td>82.0</td>\n",
       "      <td>85.0</td>\n",
       "      <td>89.0</td>\n",
       "      <td>2020</td>\n",
       "      <td>2</td>\n",
       "    </tr>\n",
       "    <tr>\n",
       "      <th>12</th>\n",
       "      <td>M</td>\n",
       "      <td>79.0</td>\n",
       "      <td>80.0</td>\n",
       "      <td>NaN</td>\n",
       "      <td>89.0</td>\n",
       "      <td>2022</td>\n",
       "      <td>2</td>\n",
       "    </tr>\n",
       "    <tr>\n",
       "      <th>13</th>\n",
       "      <td>F</td>\n",
       "      <td>61.0</td>\n",
       "      <td>80.0</td>\n",
       "      <td>NaN</td>\n",
       "      <td>88.0</td>\n",
       "      <td>2022</td>\n",
       "      <td>2</td>\n",
       "    </tr>\n",
       "  </tbody>\n",
       "</table>\n",
       "</div>"
      ],
      "text/plain": [
       "   Gender  Math score  Reading score  Writing score  Placement score  \\\n",
       "0       M        64.0           77.0           76.0             89.0   \n",
       "1       F        65.0           74.0           72.0             87.0   \n",
       "2       m        63.0           83.0           82.0              NaN   \n",
       "3       F        65.0           87.0           86.0             88.0   \n",
       "4       M        64.0           72.0           86.0             89.0   \n",
       "5       F        78.0           73.0           87.0             89.0   \n",
       "6       m         NaN           80.0           67.0             90.0   \n",
       "7       F        62.0            NaN           68.0             88.0   \n",
       "8       M        66.0           77.0           68.0             88.0   \n",
       "9       F        75.0           71.0           87.0             89.0   \n",
       "10      M        76.0           89.0           87.0             87.0   \n",
       "11      F        64.0           82.0           85.0             89.0   \n",
       "12      M        79.0           80.0            NaN             89.0   \n",
       "13      F        61.0           80.0            NaN             88.0   \n",
       "\n",
       "    Club join year  Placement offer count  \n",
       "0             2020                      1  \n",
       "1             2021                      2  \n",
       "2             2020                      1  \n",
       "3             2020                      1  \n",
       "4             2021                      1  \n",
       "5             2021                      2  \n",
       "6             2021                      1  \n",
       "7             2021                      1  \n",
       "8             2020                      1  \n",
       "9             2022                      1  \n",
       "10            2021                      1  \n",
       "11            2020                      2  \n",
       "12            2022                      2  \n",
       "13            2022                      2  "
      ]
     },
     "execution_count": 4,
     "metadata": {},
     "output_type": "execute_result"
    }
   ],
   "source": [
    "df"
   ]
  },
  {
   "cell_type": "code",
   "execution_count": 5,
   "metadata": {
    "colab": {
     "base_uri": "https://localhost:8080/",
     "height": 959
    },
    "id": "NYbd7f3SidU9",
    "outputId": "0faa5159-abe1-4bec-85ff-ce51539bcf2b"
   },
   "outputs": [
    {
     "data": {
      "text/html": [
       "<div>\n",
       "<style scoped>\n",
       "    .dataframe tbody tr th:only-of-type {\n",
       "        vertical-align: middle;\n",
       "    }\n",
       "\n",
       "    .dataframe tbody tr th {\n",
       "        vertical-align: top;\n",
       "    }\n",
       "\n",
       "    .dataframe thead th {\n",
       "        text-align: right;\n",
       "    }\n",
       "</style>\n",
       "<table border=\"1\" class=\"dataframe\">\n",
       "  <thead>\n",
       "    <tr style=\"text-align: right;\">\n",
       "      <th></th>\n",
       "      <th>Gender</th>\n",
       "      <th>Math score</th>\n",
       "      <th>Reading score</th>\n",
       "      <th>Writing score</th>\n",
       "      <th>Placement score</th>\n",
       "      <th>Club join year</th>\n",
       "      <th>Placement offer count</th>\n",
       "    </tr>\n",
       "  </thead>\n",
       "  <tbody>\n",
       "    <tr>\n",
       "      <th>0</th>\n",
       "      <td>False</td>\n",
       "      <td>False</td>\n",
       "      <td>False</td>\n",
       "      <td>False</td>\n",
       "      <td>False</td>\n",
       "      <td>False</td>\n",
       "      <td>False</td>\n",
       "    </tr>\n",
       "    <tr>\n",
       "      <th>1</th>\n",
       "      <td>False</td>\n",
       "      <td>False</td>\n",
       "      <td>False</td>\n",
       "      <td>False</td>\n",
       "      <td>False</td>\n",
       "      <td>False</td>\n",
       "      <td>False</td>\n",
       "    </tr>\n",
       "    <tr>\n",
       "      <th>2</th>\n",
       "      <td>False</td>\n",
       "      <td>False</td>\n",
       "      <td>False</td>\n",
       "      <td>False</td>\n",
       "      <td>True</td>\n",
       "      <td>False</td>\n",
       "      <td>False</td>\n",
       "    </tr>\n",
       "    <tr>\n",
       "      <th>3</th>\n",
       "      <td>False</td>\n",
       "      <td>False</td>\n",
       "      <td>False</td>\n",
       "      <td>False</td>\n",
       "      <td>False</td>\n",
       "      <td>False</td>\n",
       "      <td>False</td>\n",
       "    </tr>\n",
       "    <tr>\n",
       "      <th>4</th>\n",
       "      <td>False</td>\n",
       "      <td>False</td>\n",
       "      <td>False</td>\n",
       "      <td>False</td>\n",
       "      <td>False</td>\n",
       "      <td>False</td>\n",
       "      <td>False</td>\n",
       "    </tr>\n",
       "    <tr>\n",
       "      <th>5</th>\n",
       "      <td>False</td>\n",
       "      <td>False</td>\n",
       "      <td>False</td>\n",
       "      <td>False</td>\n",
       "      <td>False</td>\n",
       "      <td>False</td>\n",
       "      <td>False</td>\n",
       "    </tr>\n",
       "    <tr>\n",
       "      <th>6</th>\n",
       "      <td>False</td>\n",
       "      <td>True</td>\n",
       "      <td>False</td>\n",
       "      <td>False</td>\n",
       "      <td>False</td>\n",
       "      <td>False</td>\n",
       "      <td>False</td>\n",
       "    </tr>\n",
       "    <tr>\n",
       "      <th>7</th>\n",
       "      <td>False</td>\n",
       "      <td>False</td>\n",
       "      <td>True</td>\n",
       "      <td>False</td>\n",
       "      <td>False</td>\n",
       "      <td>False</td>\n",
       "      <td>False</td>\n",
       "    </tr>\n",
       "    <tr>\n",
       "      <th>8</th>\n",
       "      <td>False</td>\n",
       "      <td>False</td>\n",
       "      <td>False</td>\n",
       "      <td>False</td>\n",
       "      <td>False</td>\n",
       "      <td>False</td>\n",
       "      <td>False</td>\n",
       "    </tr>\n",
       "    <tr>\n",
       "      <th>9</th>\n",
       "      <td>False</td>\n",
       "      <td>False</td>\n",
       "      <td>False</td>\n",
       "      <td>False</td>\n",
       "      <td>False</td>\n",
       "      <td>False</td>\n",
       "      <td>False</td>\n",
       "    </tr>\n",
       "    <tr>\n",
       "      <th>10</th>\n",
       "      <td>False</td>\n",
       "      <td>False</td>\n",
       "      <td>False</td>\n",
       "      <td>False</td>\n",
       "      <td>False</td>\n",
       "      <td>False</td>\n",
       "      <td>False</td>\n",
       "    </tr>\n",
       "    <tr>\n",
       "      <th>11</th>\n",
       "      <td>False</td>\n",
       "      <td>False</td>\n",
       "      <td>False</td>\n",
       "      <td>False</td>\n",
       "      <td>False</td>\n",
       "      <td>False</td>\n",
       "      <td>False</td>\n",
       "    </tr>\n",
       "    <tr>\n",
       "      <th>12</th>\n",
       "      <td>False</td>\n",
       "      <td>False</td>\n",
       "      <td>False</td>\n",
       "      <td>True</td>\n",
       "      <td>False</td>\n",
       "      <td>False</td>\n",
       "      <td>False</td>\n",
       "    </tr>\n",
       "    <tr>\n",
       "      <th>13</th>\n",
       "      <td>False</td>\n",
       "      <td>False</td>\n",
       "      <td>False</td>\n",
       "      <td>True</td>\n",
       "      <td>False</td>\n",
       "      <td>False</td>\n",
       "      <td>False</td>\n",
       "    </tr>\n",
       "  </tbody>\n",
       "</table>\n",
       "</div>"
      ],
      "text/plain": [
       "    Gender  Math score  Reading score  Writing score  Placement score  \\\n",
       "0    False       False          False          False            False   \n",
       "1    False       False          False          False            False   \n",
       "2    False       False          False          False             True   \n",
       "3    False       False          False          False            False   \n",
       "4    False       False          False          False            False   \n",
       "5    False       False          False          False            False   \n",
       "6    False        True          False          False            False   \n",
       "7    False       False           True          False            False   \n",
       "8    False       False          False          False            False   \n",
       "9    False       False          False          False            False   \n",
       "10   False       False          False          False            False   \n",
       "11   False       False          False          False            False   \n",
       "12   False       False          False           True            False   \n",
       "13   False       False          False           True            False   \n",
       "\n",
       "    Club join year  Placement offer count  \n",
       "0            False                  False  \n",
       "1            False                  False  \n",
       "2            False                  False  \n",
       "3            False                  False  \n",
       "4            False                  False  \n",
       "5            False                  False  \n",
       "6            False                  False  \n",
       "7            False                  False  \n",
       "8            False                  False  \n",
       "9            False                  False  \n",
       "10           False                  False  \n",
       "11           False                  False  \n",
       "12           False                  False  \n",
       "13           False                  False  "
      ]
     },
     "execution_count": 5,
     "metadata": {},
     "output_type": "execute_result"
    }
   ],
   "source": [
    "df.isnull()"
   ]
  },
  {
   "cell_type": "code",
   "execution_count": 6,
   "metadata": {
    "colab": {
     "base_uri": "https://localhost:8080/"
    },
    "id": "hbbIo6KqihyQ",
    "outputId": "f857d5d7-6846-4375-8906-2a55fdc57686"
   },
   "outputs": [
    {
     "data": {
      "text/plain": [
       "Gender                   0\n",
       "Math score               1\n",
       "Reading score            1\n",
       "Writing score            2\n",
       "Placement score          1\n",
       "Club join year           0\n",
       "Placement offer count    0\n",
       "dtype: int64"
      ]
     },
     "execution_count": 6,
     "metadata": {},
     "output_type": "execute_result"
    }
   ],
   "source": [
    "df.isnull().sum()"
   ]
  },
  {
   "cell_type": "code",
   "execution_count": 7,
   "metadata": {
    "colab": {
     "base_uri": "https://localhost:8080/"
    },
    "id": "TGMzZnXuipVM",
    "outputId": "732e0e02-e849-45a4-8542-afc40b818fa3"
   },
   "outputs": [
    {
     "data": {
      "text/plain": [
       "Index(['Gender', 'Math score', 'Reading score', 'Writing score',\n",
       "       'Placement score', 'Club join year', 'Placement offer count'],\n",
       "      dtype='object')"
      ]
     },
     "execution_count": 7,
     "metadata": {},
     "output_type": "execute_result"
    }
   ],
   "source": [
    "df.columns"
   ]
  },
  {
   "cell_type": "code",
   "execution_count": 8,
   "metadata": {
    "colab": {
     "base_uri": "https://localhost:8080/"
    },
    "id": "54UbXLMBXL_F",
    "outputId": "f166686d-4cee-4776-d7c8-221b8e4bb9c0"
   },
   "outputs": [
    {
     "data": {
      "text/plain": [
       "Gender                   0\n",
       "Math score               1\n",
       "Reading score            1\n",
       "Writing score            2\n",
       "Placement score          1\n",
       "Club join year           0\n",
       "Placement offer count    0\n",
       "dtype: int64"
      ]
     },
     "execution_count": 8,
     "metadata": {},
     "output_type": "execute_result"
    }
   ],
   "source": [
    "df.isnull().sum()"
   ]
  },
  {
   "cell_type": "code",
   "execution_count": 9,
   "metadata": {
    "colab": {
     "base_uri": "https://localhost:8080/",
     "height": 300
    },
    "id": "VS-M_fNUXVfN",
    "outputId": "40e4d4d7-8a56-4173-be6b-274a14eaa965"
   },
   "outputs": [
    {
     "data": {
      "text/html": [
       "<div>\n",
       "<style scoped>\n",
       "    .dataframe tbody tr th:only-of-type {\n",
       "        vertical-align: middle;\n",
       "    }\n",
       "\n",
       "    .dataframe tbody tr th {\n",
       "        vertical-align: top;\n",
       "    }\n",
       "\n",
       "    .dataframe thead th {\n",
       "        text-align: right;\n",
       "    }\n",
       "</style>\n",
       "<table border=\"1\" class=\"dataframe\">\n",
       "  <thead>\n",
       "    <tr style=\"text-align: right;\">\n",
       "      <th></th>\n",
       "      <th>Math score</th>\n",
       "      <th>Reading score</th>\n",
       "      <th>Writing score</th>\n",
       "      <th>Placement score</th>\n",
       "      <th>Club join year</th>\n",
       "      <th>Placement offer count</th>\n",
       "    </tr>\n",
       "  </thead>\n",
       "  <tbody>\n",
       "    <tr>\n",
       "      <th>count</th>\n",
       "      <td>13.000000</td>\n",
       "      <td>13.000000</td>\n",
       "      <td>12.000000</td>\n",
       "      <td>13.000000</td>\n",
       "      <td>14.000000</td>\n",
       "      <td>14.000000</td>\n",
       "    </tr>\n",
       "    <tr>\n",
       "      <th>mean</th>\n",
       "      <td>67.846154</td>\n",
       "      <td>78.846154</td>\n",
       "      <td>79.250000</td>\n",
       "      <td>88.461538</td>\n",
       "      <td>2020.857143</td>\n",
       "      <td>1.357143</td>\n",
       "    </tr>\n",
       "    <tr>\n",
       "      <th>std</th>\n",
       "      <td>6.542759</td>\n",
       "      <td>5.580414</td>\n",
       "      <td>8.411302</td>\n",
       "      <td>0.877058</td>\n",
       "      <td>0.770329</td>\n",
       "      <td>0.497245</td>\n",
       "    </tr>\n",
       "    <tr>\n",
       "      <th>min</th>\n",
       "      <td>61.000000</td>\n",
       "      <td>71.000000</td>\n",
       "      <td>67.000000</td>\n",
       "      <td>87.000000</td>\n",
       "      <td>2020.000000</td>\n",
       "      <td>1.000000</td>\n",
       "    </tr>\n",
       "    <tr>\n",
       "      <th>25%</th>\n",
       "      <td>64.000000</td>\n",
       "      <td>74.000000</td>\n",
       "      <td>71.000000</td>\n",
       "      <td>88.000000</td>\n",
       "      <td>2020.000000</td>\n",
       "      <td>1.000000</td>\n",
       "    </tr>\n",
       "    <tr>\n",
       "      <th>50%</th>\n",
       "      <td>65.000000</td>\n",
       "      <td>80.000000</td>\n",
       "      <td>83.500000</td>\n",
       "      <td>89.000000</td>\n",
       "      <td>2021.000000</td>\n",
       "      <td>1.000000</td>\n",
       "    </tr>\n",
       "    <tr>\n",
       "      <th>75%</th>\n",
       "      <td>75.000000</td>\n",
       "      <td>82.000000</td>\n",
       "      <td>86.250000</td>\n",
       "      <td>89.000000</td>\n",
       "      <td>2021.000000</td>\n",
       "      <td>2.000000</td>\n",
       "    </tr>\n",
       "    <tr>\n",
       "      <th>max</th>\n",
       "      <td>79.000000</td>\n",
       "      <td>89.000000</td>\n",
       "      <td>87.000000</td>\n",
       "      <td>90.000000</td>\n",
       "      <td>2022.000000</td>\n",
       "      <td>2.000000</td>\n",
       "    </tr>\n",
       "  </tbody>\n",
       "</table>\n",
       "</div>"
      ],
      "text/plain": [
       "       Math score  Reading score  Writing score  Placement score  \\\n",
       "count   13.000000      13.000000      12.000000        13.000000   \n",
       "mean    67.846154      78.846154      79.250000        88.461538   \n",
       "std      6.542759       5.580414       8.411302         0.877058   \n",
       "min     61.000000      71.000000      67.000000        87.000000   \n",
       "25%     64.000000      74.000000      71.000000        88.000000   \n",
       "50%     65.000000      80.000000      83.500000        89.000000   \n",
       "75%     75.000000      82.000000      86.250000        89.000000   \n",
       "max     79.000000      89.000000      87.000000        90.000000   \n",
       "\n",
       "       Club join year  Placement offer count  \n",
       "count       14.000000              14.000000  \n",
       "mean      2020.857143               1.357143  \n",
       "std          0.770329               0.497245  \n",
       "min       2020.000000               1.000000  \n",
       "25%       2020.000000               1.000000  \n",
       "50%       2021.000000               1.000000  \n",
       "75%       2021.000000               2.000000  \n",
       "max       2022.000000               2.000000  "
      ]
     },
     "execution_count": 9,
     "metadata": {},
     "output_type": "execute_result"
    }
   ],
   "source": [
    "df.describe()"
   ]
  },
  {
   "cell_type": "code",
   "execution_count": 10,
   "metadata": {
    "colab": {
     "base_uri": "https://localhost:8080/"
    },
    "id": "en8oY6-gXlAF",
    "outputId": "821e1c98-6dcf-436a-a3e2-988895b36b21"
   },
   "outputs": [
    {
     "data": {
      "text/plain": [
       "0     77.0\n",
       "1     74.0\n",
       "2     83.0\n",
       "3     87.0\n",
       "4     72.0\n",
       "5     73.0\n",
       "6     80.0\n",
       "7      NaN\n",
       "8     77.0\n",
       "9     71.0\n",
       "10    89.0\n",
       "11    82.0\n",
       "12    80.0\n",
       "13    80.0\n",
       "Name: Reading score, dtype: float64"
      ]
     },
     "execution_count": 10,
     "metadata": {},
     "output_type": "execute_result"
    }
   ],
   "source": [
    "df['Reading score']"
   ]
  },
  {
   "cell_type": "code",
   "execution_count": 11,
   "metadata": {
    "colab": {
     "base_uri": "https://localhost:8080/"
    },
    "id": "UFPfog9oZA41",
    "outputId": "e1aee0ba-c33f-4c2d-900a-4293654ad2bb"
   },
   "outputs": [
    {
     "data": {
      "text/plain": [
       "[7]"
      ]
     },
     "execution_count": 11,
     "metadata": {},
     "output_type": "execute_result"
    }
   ],
   "source": [
    "df[df['Reading score'].isnull()].index.tolist()"
   ]
  },
  {
   "cell_type": "code",
   "execution_count": 12,
   "metadata": {
    "id": "SMrdHb_rZ2X-"
   },
   "outputs": [],
   "source": [
    "df['Reading score']=df['Reading score'].fillna(60)"
   ]
  },
  {
   "cell_type": "code",
   "execution_count": 13,
   "metadata": {
    "colab": {
     "base_uri": "https://localhost:8080/"
    },
    "id": "vQaySj5QaT5N",
    "outputId": "8f0d5a6a-c4ca-44f9-8f3c-37093acff626"
   },
   "outputs": [
    {
     "data": {
      "text/plain": [
       "0     77.0\n",
       "1     74.0\n",
       "2     83.0\n",
       "3     87.0\n",
       "4     72.0\n",
       "5     73.0\n",
       "6     80.0\n",
       "7     60.0\n",
       "8     77.0\n",
       "9     71.0\n",
       "10    89.0\n",
       "11    82.0\n",
       "12    80.0\n",
       "13    80.0\n",
       "Name: Reading score, dtype: float64"
      ]
     },
     "execution_count": 13,
     "metadata": {},
     "output_type": "execute_result"
    }
   ],
   "source": [
    "df['Reading score']"
   ]
  },
  {
   "cell_type": "code",
   "execution_count": 14,
   "metadata": {
    "colab": {
     "base_uri": "https://localhost:8080/"
    },
    "id": "Ycd05drVacdO",
    "outputId": "698a9c52-be69-4de8-b4c6-2ea8fa96a02a"
   },
   "outputs": [
    {
     "data": {
      "text/plain": [
       "14"
      ]
     },
     "execution_count": 14,
     "metadata": {},
     "output_type": "execute_result"
    }
   ],
   "source": [
    "df['Reading score'].notnull().sum()"
   ]
  },
  {
   "cell_type": "code",
   "execution_count": 15,
   "metadata": {
    "colab": {
     "base_uri": "https://localhost:8080/"
    },
    "id": "n9EEF8Cxap_N",
    "outputId": "2b539a3a-eaa0-4b28-82c9-a81475ab2441"
   },
   "outputs": [
    {
     "data": {
      "text/plain": [
       "[6]"
      ]
     },
     "execution_count": 15,
     "metadata": {},
     "output_type": "execute_result"
    }
   ],
   "source": [
    "df[df['Math score'].isnull()].index.tolist()"
   ]
  },
  {
   "cell_type": "code",
   "execution_count": 16,
   "metadata": {
    "id": "00rFuf_IeYCJ"
   },
   "outputs": [],
   "source": [
    "df['Math score']=df['Math score'].fillna(df['Math score'].mean())"
   ]
  },
  {
   "cell_type": "code",
   "execution_count": 17,
   "metadata": {
    "colab": {
     "base_uri": "https://localhost:8080/"
    },
    "id": "aDa_JeNoe6lD",
    "outputId": "fc5ef661-08b1-4a8f-a338-28e93d3b64ac"
   },
   "outputs": [
    {
     "data": {
      "text/plain": [
       "0"
      ]
     },
     "execution_count": 17,
     "metadata": {},
     "output_type": "execute_result"
    }
   ],
   "source": [
    "df['Math score'].isnull().sum()"
   ]
  },
  {
   "cell_type": "code",
   "execution_count": 18,
   "metadata": {
    "colab": {
     "base_uri": "https://localhost:8080/"
    },
    "id": "wKAr-QPAfOT9",
    "outputId": "5586c0db-9969-46a5-a71a-c203477d301a"
   },
   "outputs": [
    {
     "data": {
      "text/plain": [
       "Gender                   0\n",
       "Math score               0\n",
       "Reading score            0\n",
       "Writing score            2\n",
       "Placement score          1\n",
       "Club join year           0\n",
       "Placement offer count    0\n",
       "dtype: int64"
      ]
     },
     "execution_count": 18,
     "metadata": {},
     "output_type": "execute_result"
    }
   ],
   "source": [
    "df.isnull().sum()"
   ]
  },
  {
   "cell_type": "code",
   "execution_count": 19,
   "metadata": {
    "colab": {
     "base_uri": "https://localhost:8080/"
    },
    "id": "YSF2mxVXfYpE",
    "outputId": "8febd792-ed14-4bf6-adad-fdd7cb71f536"
   },
   "outputs": [
    {
     "data": {
      "text/plain": [
       "[12, 13]"
      ]
     },
     "execution_count": 19,
     "metadata": {},
     "output_type": "execute_result"
    }
   ],
   "source": [
    "df[df['Writing score'].isnull()].index.tolist()"
   ]
  },
  {
   "cell_type": "code",
   "execution_count": 20,
   "metadata": {
    "id": "ZIFA4PNsfwvG"
   },
   "outputs": [],
   "source": [
    "df['Writing score']=df['Writing score'].fillna(df['Writing score'].median())"
   ]
  },
  {
   "cell_type": "code",
   "execution_count": 21,
   "metadata": {
    "colab": {
     "base_uri": "https://localhost:8080/"
    },
    "id": "25MBDj4dgKtF",
    "outputId": "bc6dbbd6-2298-430d-b8a9-dc478dc570c4"
   },
   "outputs": [
    {
     "data": {
      "text/plain": [
       "0"
      ]
     },
     "execution_count": 21,
     "metadata": {},
     "output_type": "execute_result"
    }
   ],
   "source": [
    "df['Writing score'].isnull().sum()"
   ]
  },
  {
   "cell_type": "code",
   "execution_count": 22,
   "metadata": {
    "colab": {
     "base_uri": "https://localhost:8080/",
     "height": 206
    },
    "id": "HvEezYoRgd2s",
    "outputId": "798f45a7-d801-404f-d4b0-b9fc7754f019"
   },
   "outputs": [
    {
     "data": {
      "text/html": [
       "<div>\n",
       "<style scoped>\n",
       "    .dataframe tbody tr th:only-of-type {\n",
       "        vertical-align: middle;\n",
       "    }\n",
       "\n",
       "    .dataframe tbody tr th {\n",
       "        vertical-align: top;\n",
       "    }\n",
       "\n",
       "    .dataframe thead th {\n",
       "        text-align: right;\n",
       "    }\n",
       "</style>\n",
       "<table border=\"1\" class=\"dataframe\">\n",
       "  <thead>\n",
       "    <tr style=\"text-align: right;\">\n",
       "      <th></th>\n",
       "      <th>Gender</th>\n",
       "      <th>Math score</th>\n",
       "      <th>Reading score</th>\n",
       "      <th>Writing score</th>\n",
       "      <th>Placement score</th>\n",
       "      <th>Club join year</th>\n",
       "      <th>Placement offer count</th>\n",
       "    </tr>\n",
       "  </thead>\n",
       "  <tbody>\n",
       "    <tr>\n",
       "      <th>0</th>\n",
       "      <td>M</td>\n",
       "      <td>64.0</td>\n",
       "      <td>77.0</td>\n",
       "      <td>76.0</td>\n",
       "      <td>89.0</td>\n",
       "      <td>2020</td>\n",
       "      <td>1</td>\n",
       "    </tr>\n",
       "    <tr>\n",
       "      <th>1</th>\n",
       "      <td>F</td>\n",
       "      <td>65.0</td>\n",
       "      <td>74.0</td>\n",
       "      <td>72.0</td>\n",
       "      <td>87.0</td>\n",
       "      <td>2021</td>\n",
       "      <td>2</td>\n",
       "    </tr>\n",
       "    <tr>\n",
       "      <th>2</th>\n",
       "      <td>m</td>\n",
       "      <td>63.0</td>\n",
       "      <td>83.0</td>\n",
       "      <td>82.0</td>\n",
       "      <td>NaN</td>\n",
       "      <td>2020</td>\n",
       "      <td>1</td>\n",
       "    </tr>\n",
       "    <tr>\n",
       "      <th>3</th>\n",
       "      <td>F</td>\n",
       "      <td>65.0</td>\n",
       "      <td>87.0</td>\n",
       "      <td>86.0</td>\n",
       "      <td>88.0</td>\n",
       "      <td>2020</td>\n",
       "      <td>1</td>\n",
       "    </tr>\n",
       "    <tr>\n",
       "      <th>4</th>\n",
       "      <td>M</td>\n",
       "      <td>64.0</td>\n",
       "      <td>72.0</td>\n",
       "      <td>86.0</td>\n",
       "      <td>89.0</td>\n",
       "      <td>2021</td>\n",
       "      <td>1</td>\n",
       "    </tr>\n",
       "  </tbody>\n",
       "</table>\n",
       "</div>"
      ],
      "text/plain": [
       "  Gender  Math score  Reading score  Writing score  Placement score  \\\n",
       "0      M        64.0           77.0           76.0             89.0   \n",
       "1      F        65.0           74.0           72.0             87.0   \n",
       "2      m        63.0           83.0           82.0              NaN   \n",
       "3      F        65.0           87.0           86.0             88.0   \n",
       "4      M        64.0           72.0           86.0             89.0   \n",
       "\n",
       "   Club join year  Placement offer count  \n",
       "0            2020                      1  \n",
       "1            2021                      2  \n",
       "2            2020                      1  \n",
       "3            2020                      1  \n",
       "4            2021                      1  "
      ]
     },
     "execution_count": 22,
     "metadata": {},
     "output_type": "execute_result"
    }
   ],
   "source": [
    "df2.head()"
   ]
  },
  {
   "cell_type": "code",
   "execution_count": 23,
   "metadata": {
    "id": "0JwovurGgiyM"
   },
   "outputs": [],
   "source": [
    "import numpy as np"
   ]
  },
  {
   "cell_type": "code",
   "execution_count": 24,
   "metadata": {
    "colab": {
     "base_uri": "https://localhost:8080/"
    },
    "id": "v7_-_VVognmU",
    "outputId": "5101cabf-e5c1-4bc8-fc63-a4de304dcf24"
   },
   "outputs": [
    {
     "data": {
      "text/plain": [
       "Gender                   0\n",
       "Math score               0\n",
       "Reading score            0\n",
       "Writing score            0\n",
       "Placement score          1\n",
       "Club join year           0\n",
       "Placement offer count    0\n",
       "dtype: int64"
      ]
     },
     "execution_count": 24,
     "metadata": {},
     "output_type": "execute_result"
    }
   ],
   "source": [
    "df.isnull().sum()"
   ]
  },
  {
   "cell_type": "code",
   "execution_count": 25,
   "metadata": {
    "colab": {
     "base_uri": "https://localhost:8080/"
    },
    "id": "421MiO0mhHvD",
    "outputId": "5eaf934b-4cbd-42df-8b44-ab996866c651"
   },
   "outputs": [
    {
     "data": {
      "text/plain": [
       "[]"
      ]
     },
     "execution_count": 25,
     "metadata": {},
     "output_type": "execute_result"
    }
   ],
   "source": [
    "df[df['Math score'].isnull()].index.tolist()"
   ]
  },
  {
   "cell_type": "code",
   "execution_count": 26,
   "metadata": {
    "colab": {
     "base_uri": "https://localhost:8080/"
    },
    "id": "QdNEmcVWSoHt",
    "outputId": "4546cca7-9752-4732-8bf3-bf694a3a78d1"
   },
   "outputs": [
    {
     "data": {
      "text/plain": [
       "[]"
      ]
     },
     "execution_count": 26,
     "metadata": {},
     "output_type": "execute_result"
    }
   ],
   "source": [
    "df[df['Reading score'].isnull()].index.tolist()"
   ]
  },
  {
   "cell_type": "code",
   "execution_count": 27,
   "metadata": {
    "colab": {
     "base_uri": "https://localhost:8080/",
     "height": 959
    },
    "id": "wTIb6GeghcLt",
    "outputId": "12513e5f-7530-465d-fb9e-866f852d22b3"
   },
   "outputs": [
    {
     "data": {
      "text/html": [
       "<div>\n",
       "<style scoped>\n",
       "    .dataframe tbody tr th:only-of-type {\n",
       "        vertical-align: middle;\n",
       "    }\n",
       "\n",
       "    .dataframe tbody tr th {\n",
       "        vertical-align: top;\n",
       "    }\n",
       "\n",
       "    .dataframe thead th {\n",
       "        text-align: right;\n",
       "    }\n",
       "</style>\n",
       "<table border=\"1\" class=\"dataframe\">\n",
       "  <thead>\n",
       "    <tr style=\"text-align: right;\">\n",
       "      <th></th>\n",
       "      <th>Gender</th>\n",
       "      <th>Math score</th>\n",
       "      <th>Reading score</th>\n",
       "      <th>Writing score</th>\n",
       "      <th>Placement score</th>\n",
       "      <th>Club join year</th>\n",
       "      <th>Placement offer count</th>\n",
       "    </tr>\n",
       "  </thead>\n",
       "  <tbody>\n",
       "    <tr>\n",
       "      <th>0</th>\n",
       "      <td>M</td>\n",
       "      <td>64.000000</td>\n",
       "      <td>77.0</td>\n",
       "      <td>76.0</td>\n",
       "      <td>89.0</td>\n",
       "      <td>2020</td>\n",
       "      <td>1</td>\n",
       "    </tr>\n",
       "    <tr>\n",
       "      <th>1</th>\n",
       "      <td>F</td>\n",
       "      <td>65.000000</td>\n",
       "      <td>74.0</td>\n",
       "      <td>72.0</td>\n",
       "      <td>87.0</td>\n",
       "      <td>2021</td>\n",
       "      <td>2</td>\n",
       "    </tr>\n",
       "    <tr>\n",
       "      <th>2</th>\n",
       "      <td>m</td>\n",
       "      <td>63.000000</td>\n",
       "      <td>83.0</td>\n",
       "      <td>82.0</td>\n",
       "      <td>80.0</td>\n",
       "      <td>2020</td>\n",
       "      <td>1</td>\n",
       "    </tr>\n",
       "    <tr>\n",
       "      <th>3</th>\n",
       "      <td>F</td>\n",
       "      <td>65.000000</td>\n",
       "      <td>87.0</td>\n",
       "      <td>86.0</td>\n",
       "      <td>88.0</td>\n",
       "      <td>2020</td>\n",
       "      <td>1</td>\n",
       "    </tr>\n",
       "    <tr>\n",
       "      <th>4</th>\n",
       "      <td>M</td>\n",
       "      <td>64.000000</td>\n",
       "      <td>72.0</td>\n",
       "      <td>86.0</td>\n",
       "      <td>89.0</td>\n",
       "      <td>2021</td>\n",
       "      <td>1</td>\n",
       "    </tr>\n",
       "    <tr>\n",
       "      <th>5</th>\n",
       "      <td>F</td>\n",
       "      <td>78.000000</td>\n",
       "      <td>73.0</td>\n",
       "      <td>87.0</td>\n",
       "      <td>89.0</td>\n",
       "      <td>2021</td>\n",
       "      <td>2</td>\n",
       "    </tr>\n",
       "    <tr>\n",
       "      <th>6</th>\n",
       "      <td>m</td>\n",
       "      <td>67.846154</td>\n",
       "      <td>80.0</td>\n",
       "      <td>67.0</td>\n",
       "      <td>90.0</td>\n",
       "      <td>2021</td>\n",
       "      <td>1</td>\n",
       "    </tr>\n",
       "    <tr>\n",
       "      <th>7</th>\n",
       "      <td>F</td>\n",
       "      <td>62.000000</td>\n",
       "      <td>60.0</td>\n",
       "      <td>68.0</td>\n",
       "      <td>88.0</td>\n",
       "      <td>2021</td>\n",
       "      <td>1</td>\n",
       "    </tr>\n",
       "    <tr>\n",
       "      <th>8</th>\n",
       "      <td>M</td>\n",
       "      <td>66.000000</td>\n",
       "      <td>77.0</td>\n",
       "      <td>68.0</td>\n",
       "      <td>88.0</td>\n",
       "      <td>2020</td>\n",
       "      <td>1</td>\n",
       "    </tr>\n",
       "    <tr>\n",
       "      <th>9</th>\n",
       "      <td>F</td>\n",
       "      <td>75.000000</td>\n",
       "      <td>71.0</td>\n",
       "      <td>87.0</td>\n",
       "      <td>89.0</td>\n",
       "      <td>2022</td>\n",
       "      <td>1</td>\n",
       "    </tr>\n",
       "    <tr>\n",
       "      <th>10</th>\n",
       "      <td>M</td>\n",
       "      <td>76.000000</td>\n",
       "      <td>89.0</td>\n",
       "      <td>87.0</td>\n",
       "      <td>87.0</td>\n",
       "      <td>2021</td>\n",
       "      <td>1</td>\n",
       "    </tr>\n",
       "    <tr>\n",
       "      <th>11</th>\n",
       "      <td>F</td>\n",
       "      <td>64.000000</td>\n",
       "      <td>82.0</td>\n",
       "      <td>85.0</td>\n",
       "      <td>89.0</td>\n",
       "      <td>2020</td>\n",
       "      <td>2</td>\n",
       "    </tr>\n",
       "    <tr>\n",
       "      <th>12</th>\n",
       "      <td>M</td>\n",
       "      <td>79.000000</td>\n",
       "      <td>80.0</td>\n",
       "      <td>83.5</td>\n",
       "      <td>89.0</td>\n",
       "      <td>2022</td>\n",
       "      <td>2</td>\n",
       "    </tr>\n",
       "    <tr>\n",
       "      <th>13</th>\n",
       "      <td>F</td>\n",
       "      <td>61.000000</td>\n",
       "      <td>80.0</td>\n",
       "      <td>83.5</td>\n",
       "      <td>88.0</td>\n",
       "      <td>2022</td>\n",
       "      <td>2</td>\n",
       "    </tr>\n",
       "  </tbody>\n",
       "</table>\n",
       "</div>"
      ],
      "text/plain": [
       "   Gender  Math score  Reading score  Writing score  Placement score  \\\n",
       "0       M   64.000000           77.0           76.0             89.0   \n",
       "1       F   65.000000           74.0           72.0             87.0   \n",
       "2       m   63.000000           83.0           82.0             80.0   \n",
       "3       F   65.000000           87.0           86.0             88.0   \n",
       "4       M   64.000000           72.0           86.0             89.0   \n",
       "5       F   78.000000           73.0           87.0             89.0   \n",
       "6       m   67.846154           80.0           67.0             90.0   \n",
       "7       F   62.000000           60.0           68.0             88.0   \n",
       "8       M   66.000000           77.0           68.0             88.0   \n",
       "9       F   75.000000           71.0           87.0             89.0   \n",
       "10      M   76.000000           89.0           87.0             87.0   \n",
       "11      F   64.000000           82.0           85.0             89.0   \n",
       "12      M   79.000000           80.0           83.5             89.0   \n",
       "13      F   61.000000           80.0           83.5             88.0   \n",
       "\n",
       "    Club join year  Placement offer count  \n",
       "0             2020                      1  \n",
       "1             2021                      2  \n",
       "2             2020                      1  \n",
       "3             2020                      1  \n",
       "4             2021                      1  \n",
       "5             2021                      2  \n",
       "6             2021                      1  \n",
       "7             2021                      1  \n",
       "8             2020                      1  \n",
       "9             2022                      1  \n",
       "10            2021                      1  \n",
       "11            2020                      2  \n",
       "12            2022                      2  \n",
       "13            2022                      2  "
      ]
     },
     "execution_count": 27,
     "metadata": {},
     "output_type": "execute_result"
    }
   ],
   "source": [
    "df.replace(to_replace=np.nan,value=80)"
   ]
  },
  {
   "cell_type": "code",
   "execution_count": 28,
   "metadata": {
    "colab": {
     "base_uri": "https://localhost:8080/"
    },
    "id": "Cz6om8pWhtIb",
    "outputId": "c4cbc99d-a128-4e66-d99f-963750287dfd"
   },
   "outputs": [
    {
     "data": {
      "text/plain": [
       "Gender                   0\n",
       "Math score               0\n",
       "Reading score            0\n",
       "Writing score            0\n",
       "Placement score          1\n",
       "Club join year           0\n",
       "Placement offer count    0\n",
       "dtype: int64"
      ]
     },
     "execution_count": 28,
     "metadata": {},
     "output_type": "execute_result"
    }
   ],
   "source": [
    "df2.isnull().sum()"
   ]
  },
  {
   "cell_type": "markdown",
   "metadata": {
    "id": "bvRLn6yYNYNz"
   },
   "source": [
    "###Deleting null values using dropna() metthod"
   ]
  },
  {
   "cell_type": "code",
   "execution_count": 29,
   "metadata": {
    "colab": {
     "base_uri": "https://localhost:8080/"
    },
    "id": "m0KQsiAsN_nk",
    "outputId": "2423ae29-7107-4ae4-ca92-5bb47c5c16c7"
   },
   "outputs": [
    {
     "data": {
      "text/plain": [
       "Gender                   0\n",
       "Math score               0\n",
       "Reading score            0\n",
       "Writing score            0\n",
       "Placement score          1\n",
       "Club join year           0\n",
       "Placement offer count    0\n",
       "dtype: int64"
      ]
     },
     "execution_count": 29,
     "metadata": {},
     "output_type": "execute_result"
    }
   ],
   "source": [
    "df3.isnull().sum()"
   ]
  },
  {
   "cell_type": "code",
   "execution_count": 30,
   "metadata": {
    "colab": {
     "base_uri": "https://localhost:8080/"
    },
    "id": "rO31gewcORVY",
    "outputId": "7a58994f-bef8-44b3-cb72-8dbf58d636c9"
   },
   "outputs": [
    {
     "data": {
      "text/plain": [
       "[]"
      ]
     },
     "execution_count": 30,
     "metadata": {},
     "output_type": "execute_result"
    }
   ],
   "source": [
    "df3[df3['Math score'].isnull()].index.tolist()"
   ]
  },
  {
   "cell_type": "code",
   "execution_count": 31,
   "metadata": {
    "colab": {
     "base_uri": "https://localhost:8080/"
    },
    "id": "kMyJ6DaIOpiH",
    "outputId": "b6f9eb0b-ee8f-45a7-e9d0-fd43edf6c40b"
   },
   "outputs": [
    {
     "data": {
      "text/plain": [
       "[]"
      ]
     },
     "execution_count": 31,
     "metadata": {},
     "output_type": "execute_result"
    }
   ],
   "source": [
    "df3[df3['Reading score'].isnull()].index.tolist()"
   ]
  },
  {
   "cell_type": "code",
   "execution_count": 32,
   "metadata": {
    "colab": {
     "base_uri": "https://localhost:8080/",
     "height": 896
    },
    "id": "L6_k3Kv_O3Gt",
    "outputId": "f5895f95-d1a4-4aa1-ddcb-5eec58e8bb14"
   },
   "outputs": [
    {
     "data": {
      "text/html": [
       "<div>\n",
       "<style scoped>\n",
       "    .dataframe tbody tr th:only-of-type {\n",
       "        vertical-align: middle;\n",
       "    }\n",
       "\n",
       "    .dataframe tbody tr th {\n",
       "        vertical-align: top;\n",
       "    }\n",
       "\n",
       "    .dataframe thead th {\n",
       "        text-align: right;\n",
       "    }\n",
       "</style>\n",
       "<table border=\"1\" class=\"dataframe\">\n",
       "  <thead>\n",
       "    <tr style=\"text-align: right;\">\n",
       "      <th></th>\n",
       "      <th>Gender</th>\n",
       "      <th>Math score</th>\n",
       "      <th>Reading score</th>\n",
       "      <th>Writing score</th>\n",
       "      <th>Placement score</th>\n",
       "      <th>Club join year</th>\n",
       "      <th>Placement offer count</th>\n",
       "    </tr>\n",
       "  </thead>\n",
       "  <tbody>\n",
       "    <tr>\n",
       "      <th>0</th>\n",
       "      <td>M</td>\n",
       "      <td>64.000000</td>\n",
       "      <td>77.0</td>\n",
       "      <td>76.0</td>\n",
       "      <td>89.0</td>\n",
       "      <td>2020</td>\n",
       "      <td>1</td>\n",
       "    </tr>\n",
       "    <tr>\n",
       "      <th>1</th>\n",
       "      <td>F</td>\n",
       "      <td>65.000000</td>\n",
       "      <td>74.0</td>\n",
       "      <td>72.0</td>\n",
       "      <td>87.0</td>\n",
       "      <td>2021</td>\n",
       "      <td>2</td>\n",
       "    </tr>\n",
       "    <tr>\n",
       "      <th>3</th>\n",
       "      <td>F</td>\n",
       "      <td>65.000000</td>\n",
       "      <td>87.0</td>\n",
       "      <td>86.0</td>\n",
       "      <td>88.0</td>\n",
       "      <td>2020</td>\n",
       "      <td>1</td>\n",
       "    </tr>\n",
       "    <tr>\n",
       "      <th>4</th>\n",
       "      <td>M</td>\n",
       "      <td>64.000000</td>\n",
       "      <td>72.0</td>\n",
       "      <td>86.0</td>\n",
       "      <td>89.0</td>\n",
       "      <td>2021</td>\n",
       "      <td>1</td>\n",
       "    </tr>\n",
       "    <tr>\n",
       "      <th>5</th>\n",
       "      <td>F</td>\n",
       "      <td>78.000000</td>\n",
       "      <td>73.0</td>\n",
       "      <td>87.0</td>\n",
       "      <td>89.0</td>\n",
       "      <td>2021</td>\n",
       "      <td>2</td>\n",
       "    </tr>\n",
       "    <tr>\n",
       "      <th>6</th>\n",
       "      <td>m</td>\n",
       "      <td>67.846154</td>\n",
       "      <td>80.0</td>\n",
       "      <td>67.0</td>\n",
       "      <td>90.0</td>\n",
       "      <td>2021</td>\n",
       "      <td>1</td>\n",
       "    </tr>\n",
       "    <tr>\n",
       "      <th>7</th>\n",
       "      <td>F</td>\n",
       "      <td>62.000000</td>\n",
       "      <td>60.0</td>\n",
       "      <td>68.0</td>\n",
       "      <td>88.0</td>\n",
       "      <td>2021</td>\n",
       "      <td>1</td>\n",
       "    </tr>\n",
       "    <tr>\n",
       "      <th>8</th>\n",
       "      <td>M</td>\n",
       "      <td>66.000000</td>\n",
       "      <td>77.0</td>\n",
       "      <td>68.0</td>\n",
       "      <td>88.0</td>\n",
       "      <td>2020</td>\n",
       "      <td>1</td>\n",
       "    </tr>\n",
       "    <tr>\n",
       "      <th>9</th>\n",
       "      <td>F</td>\n",
       "      <td>75.000000</td>\n",
       "      <td>71.0</td>\n",
       "      <td>87.0</td>\n",
       "      <td>89.0</td>\n",
       "      <td>2022</td>\n",
       "      <td>1</td>\n",
       "    </tr>\n",
       "    <tr>\n",
       "      <th>10</th>\n",
       "      <td>M</td>\n",
       "      <td>76.000000</td>\n",
       "      <td>89.0</td>\n",
       "      <td>87.0</td>\n",
       "      <td>87.0</td>\n",
       "      <td>2021</td>\n",
       "      <td>1</td>\n",
       "    </tr>\n",
       "    <tr>\n",
       "      <th>11</th>\n",
       "      <td>F</td>\n",
       "      <td>64.000000</td>\n",
       "      <td>82.0</td>\n",
       "      <td>85.0</td>\n",
       "      <td>89.0</td>\n",
       "      <td>2020</td>\n",
       "      <td>2</td>\n",
       "    </tr>\n",
       "    <tr>\n",
       "      <th>12</th>\n",
       "      <td>M</td>\n",
       "      <td>79.000000</td>\n",
       "      <td>80.0</td>\n",
       "      <td>83.5</td>\n",
       "      <td>89.0</td>\n",
       "      <td>2022</td>\n",
       "      <td>2</td>\n",
       "    </tr>\n",
       "    <tr>\n",
       "      <th>13</th>\n",
       "      <td>F</td>\n",
       "      <td>61.000000</td>\n",
       "      <td>80.0</td>\n",
       "      <td>83.5</td>\n",
       "      <td>88.0</td>\n",
       "      <td>2022</td>\n",
       "      <td>2</td>\n",
       "    </tr>\n",
       "  </tbody>\n",
       "</table>\n",
       "</div>"
      ],
      "text/plain": [
       "   Gender  Math score  Reading score  Writing score  Placement score  \\\n",
       "0       M   64.000000           77.0           76.0             89.0   \n",
       "1       F   65.000000           74.0           72.0             87.0   \n",
       "3       F   65.000000           87.0           86.0             88.0   \n",
       "4       M   64.000000           72.0           86.0             89.0   \n",
       "5       F   78.000000           73.0           87.0             89.0   \n",
       "6       m   67.846154           80.0           67.0             90.0   \n",
       "7       F   62.000000           60.0           68.0             88.0   \n",
       "8       M   66.000000           77.0           68.0             88.0   \n",
       "9       F   75.000000           71.0           87.0             89.0   \n",
       "10      M   76.000000           89.0           87.0             87.0   \n",
       "11      F   64.000000           82.0           85.0             89.0   \n",
       "12      M   79.000000           80.0           83.5             89.0   \n",
       "13      F   61.000000           80.0           83.5             88.0   \n",
       "\n",
       "    Club join year  Placement offer count  \n",
       "0             2020                      1  \n",
       "1             2021                      2  \n",
       "3             2020                      1  \n",
       "4             2021                      1  \n",
       "5             2021                      2  \n",
       "6             2021                      1  \n",
       "7             2021                      1  \n",
       "8             2020                      1  \n",
       "9             2022                      1  \n",
       "10            2021                      1  \n",
       "11            2020                      2  \n",
       "12            2022                      2  \n",
       "13            2022                      2  "
      ]
     },
     "execution_count": 32,
     "metadata": {},
     "output_type": "execute_result"
    }
   ],
   "source": [
    "#To drop rows with at least 1 null value\n",
    "df3.dropna()"
   ]
  },
  {
   "cell_type": "code",
   "execution_count": 33,
   "metadata": {
    "colab": {
     "base_uri": "https://localhost:8080/",
     "height": 959
    },
    "id": "AvVeiHkXPoqF",
    "outputId": "8205f89d-9f1b-4df1-b080-3b0608724eee"
   },
   "outputs": [
    {
     "data": {
      "text/html": [
       "<div>\n",
       "<style scoped>\n",
       "    .dataframe tbody tr th:only-of-type {\n",
       "        vertical-align: middle;\n",
       "    }\n",
       "\n",
       "    .dataframe tbody tr th {\n",
       "        vertical-align: top;\n",
       "    }\n",
       "\n",
       "    .dataframe thead th {\n",
       "        text-align: right;\n",
       "    }\n",
       "</style>\n",
       "<table border=\"1\" class=\"dataframe\">\n",
       "  <thead>\n",
       "    <tr style=\"text-align: right;\">\n",
       "      <th></th>\n",
       "      <th>Gender</th>\n",
       "      <th>Math score</th>\n",
       "      <th>Reading score</th>\n",
       "      <th>Writing score</th>\n",
       "      <th>Club join year</th>\n",
       "      <th>Placement offer count</th>\n",
       "    </tr>\n",
       "  </thead>\n",
       "  <tbody>\n",
       "    <tr>\n",
       "      <th>0</th>\n",
       "      <td>M</td>\n",
       "      <td>64.000000</td>\n",
       "      <td>77.0</td>\n",
       "      <td>76.0</td>\n",
       "      <td>2020</td>\n",
       "      <td>1</td>\n",
       "    </tr>\n",
       "    <tr>\n",
       "      <th>1</th>\n",
       "      <td>F</td>\n",
       "      <td>65.000000</td>\n",
       "      <td>74.0</td>\n",
       "      <td>72.0</td>\n",
       "      <td>2021</td>\n",
       "      <td>2</td>\n",
       "    </tr>\n",
       "    <tr>\n",
       "      <th>2</th>\n",
       "      <td>m</td>\n",
       "      <td>63.000000</td>\n",
       "      <td>83.0</td>\n",
       "      <td>82.0</td>\n",
       "      <td>2020</td>\n",
       "      <td>1</td>\n",
       "    </tr>\n",
       "    <tr>\n",
       "      <th>3</th>\n",
       "      <td>F</td>\n",
       "      <td>65.000000</td>\n",
       "      <td>87.0</td>\n",
       "      <td>86.0</td>\n",
       "      <td>2020</td>\n",
       "      <td>1</td>\n",
       "    </tr>\n",
       "    <tr>\n",
       "      <th>4</th>\n",
       "      <td>M</td>\n",
       "      <td>64.000000</td>\n",
       "      <td>72.0</td>\n",
       "      <td>86.0</td>\n",
       "      <td>2021</td>\n",
       "      <td>1</td>\n",
       "    </tr>\n",
       "    <tr>\n",
       "      <th>5</th>\n",
       "      <td>F</td>\n",
       "      <td>78.000000</td>\n",
       "      <td>73.0</td>\n",
       "      <td>87.0</td>\n",
       "      <td>2021</td>\n",
       "      <td>2</td>\n",
       "    </tr>\n",
       "    <tr>\n",
       "      <th>6</th>\n",
       "      <td>m</td>\n",
       "      <td>67.846154</td>\n",
       "      <td>80.0</td>\n",
       "      <td>67.0</td>\n",
       "      <td>2021</td>\n",
       "      <td>1</td>\n",
       "    </tr>\n",
       "    <tr>\n",
       "      <th>7</th>\n",
       "      <td>F</td>\n",
       "      <td>62.000000</td>\n",
       "      <td>60.0</td>\n",
       "      <td>68.0</td>\n",
       "      <td>2021</td>\n",
       "      <td>1</td>\n",
       "    </tr>\n",
       "    <tr>\n",
       "      <th>8</th>\n",
       "      <td>M</td>\n",
       "      <td>66.000000</td>\n",
       "      <td>77.0</td>\n",
       "      <td>68.0</td>\n",
       "      <td>2020</td>\n",
       "      <td>1</td>\n",
       "    </tr>\n",
       "    <tr>\n",
       "      <th>9</th>\n",
       "      <td>F</td>\n",
       "      <td>75.000000</td>\n",
       "      <td>71.0</td>\n",
       "      <td>87.0</td>\n",
       "      <td>2022</td>\n",
       "      <td>1</td>\n",
       "    </tr>\n",
       "    <tr>\n",
       "      <th>10</th>\n",
       "      <td>M</td>\n",
       "      <td>76.000000</td>\n",
       "      <td>89.0</td>\n",
       "      <td>87.0</td>\n",
       "      <td>2021</td>\n",
       "      <td>1</td>\n",
       "    </tr>\n",
       "    <tr>\n",
       "      <th>11</th>\n",
       "      <td>F</td>\n",
       "      <td>64.000000</td>\n",
       "      <td>82.0</td>\n",
       "      <td>85.0</td>\n",
       "      <td>2020</td>\n",
       "      <td>2</td>\n",
       "    </tr>\n",
       "    <tr>\n",
       "      <th>12</th>\n",
       "      <td>M</td>\n",
       "      <td>79.000000</td>\n",
       "      <td>80.0</td>\n",
       "      <td>83.5</td>\n",
       "      <td>2022</td>\n",
       "      <td>2</td>\n",
       "    </tr>\n",
       "    <tr>\n",
       "      <th>13</th>\n",
       "      <td>F</td>\n",
       "      <td>61.000000</td>\n",
       "      <td>80.0</td>\n",
       "      <td>83.5</td>\n",
       "      <td>2022</td>\n",
       "      <td>2</td>\n",
       "    </tr>\n",
       "  </tbody>\n",
       "</table>\n",
       "</div>"
      ],
      "text/plain": [
       "   Gender  Math score  Reading score  Writing score  Club join year  \\\n",
       "0       M   64.000000           77.0           76.0            2020   \n",
       "1       F   65.000000           74.0           72.0            2021   \n",
       "2       m   63.000000           83.0           82.0            2020   \n",
       "3       F   65.000000           87.0           86.0            2020   \n",
       "4       M   64.000000           72.0           86.0            2021   \n",
       "5       F   78.000000           73.0           87.0            2021   \n",
       "6       m   67.846154           80.0           67.0            2021   \n",
       "7       F   62.000000           60.0           68.0            2021   \n",
       "8       M   66.000000           77.0           68.0            2020   \n",
       "9       F   75.000000           71.0           87.0            2022   \n",
       "10      M   76.000000           89.0           87.0            2021   \n",
       "11      F   64.000000           82.0           85.0            2020   \n",
       "12      M   79.000000           80.0           83.5            2022   \n",
       "13      F   61.000000           80.0           83.5            2022   \n",
       "\n",
       "    Placement offer count  \n",
       "0                       1  \n",
       "1                       2  \n",
       "2                       1  \n",
       "3                       1  \n",
       "4                       1  \n",
       "5                       2  \n",
       "6                       1  \n",
       "7                       1  \n",
       "8                       1  \n",
       "9                       1  \n",
       "10                      1  \n",
       "11                      2  \n",
       "12                      2  \n",
       "13                      2  "
      ]
     },
     "execution_count": 33,
     "metadata": {},
     "output_type": "execute_result"
    }
   ],
   "source": [
    "#To Drop columns with at least 1 null value\n",
    "df4.dropna(axis=1)"
   ]
  },
  {
   "cell_type": "markdown",
   "metadata": {
    "id": "QU833ispRwc1"
   },
   "source": []
  },
  {
   "cell_type": "markdown",
   "metadata": {
    "id": "Q9vHA0tnRwif"
   },
   "source": [
    "## **Handling** **Outliers**\n",
    "### **1.Detecting outliers using Boxplot:**"
   ]
  },
  {
   "cell_type": "code",
   "execution_count": 34,
   "metadata": {
    "colab": {
     "base_uri": "https://localhost:8080/"
    },
    "id": "efD7F45aSafa",
    "outputId": "5d39e070-aecc-4833-e392-0af77b8db5b4"
   },
   "outputs": [
    {
     "data": {
      "text/html": [
       "<div>\n",
       "<style scoped>\n",
       "    .dataframe tbody tr th:only-of-type {\n",
       "        vertical-align: middle;\n",
       "    }\n",
       "\n",
       "    .dataframe tbody tr th {\n",
       "        vertical-align: top;\n",
       "    }\n",
       "\n",
       "    .dataframe thead th {\n",
       "        text-align: right;\n",
       "    }\n",
       "</style>\n",
       "<table border=\"1\" class=\"dataframe\">\n",
       "  <thead>\n",
       "    <tr style=\"text-align: right;\">\n",
       "      <th></th>\n",
       "      <th>Gender</th>\n",
       "      <th>Math score</th>\n",
       "      <th>Reading score</th>\n",
       "      <th>Writing score</th>\n",
       "      <th>Placement score</th>\n",
       "      <th>Club join year</th>\n",
       "      <th>Placement offer count</th>\n",
       "    </tr>\n",
       "  </thead>\n",
       "  <tbody>\n",
       "    <tr>\n",
       "      <th>0</th>\n",
       "      <td>M</td>\n",
       "      <td>64.000000</td>\n",
       "      <td>77.0</td>\n",
       "      <td>76.0</td>\n",
       "      <td>89.0</td>\n",
       "      <td>2020</td>\n",
       "      <td>1</td>\n",
       "    </tr>\n",
       "    <tr>\n",
       "      <th>1</th>\n",
       "      <td>F</td>\n",
       "      <td>65.000000</td>\n",
       "      <td>74.0</td>\n",
       "      <td>72.0</td>\n",
       "      <td>87.0</td>\n",
       "      <td>2021</td>\n",
       "      <td>2</td>\n",
       "    </tr>\n",
       "    <tr>\n",
       "      <th>2</th>\n",
       "      <td>m</td>\n",
       "      <td>63.000000</td>\n",
       "      <td>83.0</td>\n",
       "      <td>82.0</td>\n",
       "      <td>NaN</td>\n",
       "      <td>2020</td>\n",
       "      <td>1</td>\n",
       "    </tr>\n",
       "    <tr>\n",
       "      <th>3</th>\n",
       "      <td>F</td>\n",
       "      <td>65.000000</td>\n",
       "      <td>87.0</td>\n",
       "      <td>86.0</td>\n",
       "      <td>88.0</td>\n",
       "      <td>2020</td>\n",
       "      <td>1</td>\n",
       "    </tr>\n",
       "    <tr>\n",
       "      <th>4</th>\n",
       "      <td>M</td>\n",
       "      <td>64.000000</td>\n",
       "      <td>72.0</td>\n",
       "      <td>86.0</td>\n",
       "      <td>89.0</td>\n",
       "      <td>2021</td>\n",
       "      <td>1</td>\n",
       "    </tr>\n",
       "    <tr>\n",
       "      <th>5</th>\n",
       "      <td>F</td>\n",
       "      <td>78.000000</td>\n",
       "      <td>73.0</td>\n",
       "      <td>87.0</td>\n",
       "      <td>89.0</td>\n",
       "      <td>2021</td>\n",
       "      <td>2</td>\n",
       "    </tr>\n",
       "    <tr>\n",
       "      <th>6</th>\n",
       "      <td>m</td>\n",
       "      <td>67.846154</td>\n",
       "      <td>80.0</td>\n",
       "      <td>67.0</td>\n",
       "      <td>90.0</td>\n",
       "      <td>2021</td>\n",
       "      <td>1</td>\n",
       "    </tr>\n",
       "    <tr>\n",
       "      <th>7</th>\n",
       "      <td>F</td>\n",
       "      <td>62.000000</td>\n",
       "      <td>60.0</td>\n",
       "      <td>68.0</td>\n",
       "      <td>88.0</td>\n",
       "      <td>2021</td>\n",
       "      <td>1</td>\n",
       "    </tr>\n",
       "    <tr>\n",
       "      <th>8</th>\n",
       "      <td>M</td>\n",
       "      <td>66.000000</td>\n",
       "      <td>77.0</td>\n",
       "      <td>68.0</td>\n",
       "      <td>88.0</td>\n",
       "      <td>2020</td>\n",
       "      <td>1</td>\n",
       "    </tr>\n",
       "    <tr>\n",
       "      <th>9</th>\n",
       "      <td>F</td>\n",
       "      <td>75.000000</td>\n",
       "      <td>71.0</td>\n",
       "      <td>87.0</td>\n",
       "      <td>89.0</td>\n",
       "      <td>2022</td>\n",
       "      <td>1</td>\n",
       "    </tr>\n",
       "    <tr>\n",
       "      <th>10</th>\n",
       "      <td>M</td>\n",
       "      <td>76.000000</td>\n",
       "      <td>89.0</td>\n",
       "      <td>87.0</td>\n",
       "      <td>87.0</td>\n",
       "      <td>2021</td>\n",
       "      <td>1</td>\n",
       "    </tr>\n",
       "    <tr>\n",
       "      <th>11</th>\n",
       "      <td>F</td>\n",
       "      <td>64.000000</td>\n",
       "      <td>82.0</td>\n",
       "      <td>85.0</td>\n",
       "      <td>89.0</td>\n",
       "      <td>2020</td>\n",
       "      <td>2</td>\n",
       "    </tr>\n",
       "    <tr>\n",
       "      <th>12</th>\n",
       "      <td>M</td>\n",
       "      <td>79.000000</td>\n",
       "      <td>80.0</td>\n",
       "      <td>83.5</td>\n",
       "      <td>89.0</td>\n",
       "      <td>2022</td>\n",
       "      <td>2</td>\n",
       "    </tr>\n",
       "    <tr>\n",
       "      <th>13</th>\n",
       "      <td>F</td>\n",
       "      <td>61.000000</td>\n",
       "      <td>80.0</td>\n",
       "      <td>83.5</td>\n",
       "      <td>88.0</td>\n",
       "      <td>2022</td>\n",
       "      <td>2</td>\n",
       "    </tr>\n",
       "  </tbody>\n",
       "</table>\n",
       "</div>"
      ],
      "text/plain": [
       "   Gender  Math score  Reading score  Writing score  Placement score  \\\n",
       "0       M   64.000000           77.0           76.0             89.0   \n",
       "1       F   65.000000           74.0           72.0             87.0   \n",
       "2       m   63.000000           83.0           82.0              NaN   \n",
       "3       F   65.000000           87.0           86.0             88.0   \n",
       "4       M   64.000000           72.0           86.0             89.0   \n",
       "5       F   78.000000           73.0           87.0             89.0   \n",
       "6       m   67.846154           80.0           67.0             90.0   \n",
       "7       F   62.000000           60.0           68.0             88.0   \n",
       "8       M   66.000000           77.0           68.0             88.0   \n",
       "9       F   75.000000           71.0           87.0             89.0   \n",
       "10      M   76.000000           89.0           87.0             87.0   \n",
       "11      F   64.000000           82.0           85.0             89.0   \n",
       "12      M   79.000000           80.0           83.5             89.0   \n",
       "13      F   61.000000           80.0           83.5             88.0   \n",
       "\n",
       "    Club join year  Placement offer count  \n",
       "0             2020                      1  \n",
       "1             2021                      2  \n",
       "2             2020                      1  \n",
       "3             2020                      1  \n",
       "4             2021                      1  \n",
       "5             2021                      2  \n",
       "6             2021                      1  \n",
       "7             2021                      1  \n",
       "8             2020                      1  \n",
       "9             2022                      1  \n",
       "10            2021                      1  \n",
       "11            2020                      2  \n",
       "12            2022                      2  \n",
       "13            2022                      2  "
      ]
     },
     "execution_count": 34,
     "metadata": {},
     "output_type": "execute_result"
    }
   ],
   "source": [
    "df"
   ]
  },
  {
   "cell_type": "code",
   "execution_count": 35,
   "metadata": {},
   "outputs": [
    {
     "data": {
      "text/plain": [
       "Index(['Gender', 'Math score', 'Reading score', 'Writing score',\n",
       "       'Placement score', 'Club join year', 'Placement offer count'],\n",
       "      dtype='object')"
      ]
     },
     "execution_count": 35,
     "metadata": {},
     "output_type": "execute_result"
    }
   ],
   "source": [
    "df.columns"
   ]
  },
  {
   "cell_type": "code",
   "execution_count": 36,
   "metadata": {
    "id": "BWtWLZrlSeZP"
   },
   "outputs": [
    {
     "data": {
      "text/plain": [
       "<AxesSubplot:>"
      ]
     },
     "execution_count": 36,
     "metadata": {},
     "output_type": "execute_result"
    },
    {
     "data": {
      "image/png": "[encoded data removed]",
      "text/plain": [
       "<Figure size 640x480 with 1 Axes>"
      ]
     },
     "metadata": {},
     "output_type": "display_data"
    }
   ],
   "source": [
    "col = ['Math score','Reading score', 'Writing score', 'Placement score']\n",
    "df.boxplot(col)"
   ]
  },
  {
   "cell_type": "code",
   "execution_count": 37,
   "metadata": {
    "id": "k-jVwGNXV8A1"
   },
   "outputs": [
    {
     "name": "stdout",
     "output_type": "stream",
     "text": [
      "(array([], dtype=int64),)\n"
     ]
    }
   ],
   "source": [
    "print(np.where(df['Math score'] <25))"
   ]
  },
  {
   "cell_type": "code",
   "execution_count": 38,
   "metadata": {
    "colab": {
     "base_uri": "https://localhost:8080/",
     "height": 445
    },
    "id": "cPi7IQZ0WK2c",
    "outputId": "c2be4226-1538-4bfe-a443-11ec187bbbae"
   },
   "outputs": [
    {
     "name": "stdout",
     "output_type": "stream",
     "text": [
      "(array([], dtype=int64),)\n"
     ]
    }
   ],
   "source": [
    "print(np.where(df['Reading score'] <25))"
   ]
  },
  {
   "cell_type": "code",
   "execution_count": 39,
   "metadata": {
    "colab": {
     "base_uri": "https://localhost:8080/",
     "height": 1000
    },
    "id": "Px6M8b_MWd5g",
    "outputId": "00ada875-219e-4155-a24b-5a4c77eb01cb"
   },
   "outputs": [
    {
     "name": "stdout",
     "output_type": "stream",
     "text": [
      "(array([], dtype=int64),)\n"
     ]
    }
   ],
   "source": [
    "print(np.where(df['Writing score'] <25))"
   ]
  },
  {
   "cell_type": "markdown",
   "metadata": {},
   "source": [
    "# Detecting outliers using scatterplot:"
   ]
  },
  {
   "cell_type": "code",
   "execution_count": 40,
   "metadata": {},
   "outputs": [],
   "source": [
    "import pandas as pd"
   ]
  },
  {
   "cell_type": "code",
   "execution_count": 41,
   "metadata": {},
   "outputs": [],
   "source": [
    "import numpy as np"
   ]
  },
  {
   "cell_type": "code",
   "execution_count": 42,
   "metadata": {},
   "outputs": [],
   "source": [
    "import matplotlib.pyplot as plt"
   ]
  },
  {
   "cell_type": "code",
   "execution_count": 43,
   "metadata": {},
   "outputs": [
    {
     "data": {
      "text/html": [
       "<div>\n",
       "<style scoped>\n",
       "    .dataframe tbody tr th:only-of-type {\n",
       "        vertical-align: middle;\n",
       "    }\n",
       "\n",
       "    .dataframe tbody tr th {\n",
       "        vertical-align: top;\n",
       "    }\n",
       "\n",
       "    .dataframe thead th {\n",
       "        text-align: right;\n",
       "    }\n",
       "</style>\n",
       "<table border=\"1\" class=\"dataframe\">\n",
       "  <thead>\n",
       "    <tr style=\"text-align: right;\">\n",
       "      <th></th>\n",
       "      <th>Gender</th>\n",
       "      <th>Math score</th>\n",
       "      <th>Reading score</th>\n",
       "      <th>Writing score</th>\n",
       "      <th>Placement score</th>\n",
       "      <th>Club join year</th>\n",
       "      <th>Placement offer count</th>\n",
       "    </tr>\n",
       "  </thead>\n",
       "  <tbody>\n",
       "    <tr>\n",
       "      <th>0</th>\n",
       "      <td>M</td>\n",
       "      <td>64.000000</td>\n",
       "      <td>77.0</td>\n",
       "      <td>76.0</td>\n",
       "      <td>89.0</td>\n",
       "      <td>2020</td>\n",
       "      <td>1</td>\n",
       "    </tr>\n",
       "    <tr>\n",
       "      <th>1</th>\n",
       "      <td>F</td>\n",
       "      <td>65.000000</td>\n",
       "      <td>74.0</td>\n",
       "      <td>72.0</td>\n",
       "      <td>87.0</td>\n",
       "      <td>2021</td>\n",
       "      <td>2</td>\n",
       "    </tr>\n",
       "    <tr>\n",
       "      <th>2</th>\n",
       "      <td>m</td>\n",
       "      <td>63.000000</td>\n",
       "      <td>83.0</td>\n",
       "      <td>82.0</td>\n",
       "      <td>NaN</td>\n",
       "      <td>2020</td>\n",
       "      <td>1</td>\n",
       "    </tr>\n",
       "    <tr>\n",
       "      <th>3</th>\n",
       "      <td>F</td>\n",
       "      <td>65.000000</td>\n",
       "      <td>87.0</td>\n",
       "      <td>86.0</td>\n",
       "      <td>88.0</td>\n",
       "      <td>2020</td>\n",
       "      <td>1</td>\n",
       "    </tr>\n",
       "    <tr>\n",
       "      <th>4</th>\n",
       "      <td>M</td>\n",
       "      <td>64.000000</td>\n",
       "      <td>72.0</td>\n",
       "      <td>86.0</td>\n",
       "      <td>89.0</td>\n",
       "      <td>2021</td>\n",
       "      <td>1</td>\n",
       "    </tr>\n",
       "    <tr>\n",
       "      <th>5</th>\n",
       "      <td>F</td>\n",
       "      <td>78.000000</td>\n",
       "      <td>73.0</td>\n",
       "      <td>87.0</td>\n",
       "      <td>89.0</td>\n",
       "      <td>2021</td>\n",
       "      <td>2</td>\n",
       "    </tr>\n",
       "    <tr>\n",
       "      <th>6</th>\n",
       "      <td>m</td>\n",
       "      <td>67.846154</td>\n",
       "      <td>80.0</td>\n",
       "      <td>67.0</td>\n",
       "      <td>90.0</td>\n",
       "      <td>2021</td>\n",
       "      <td>1</td>\n",
       "    </tr>\n",
       "    <tr>\n",
       "      <th>7</th>\n",
       "      <td>F</td>\n",
       "      <td>62.000000</td>\n",
       "      <td>60.0</td>\n",
       "      <td>68.0</td>\n",
       "      <td>88.0</td>\n",
       "      <td>2021</td>\n",
       "      <td>1</td>\n",
       "    </tr>\n",
       "    <tr>\n",
       "      <th>8</th>\n",
       "      <td>M</td>\n",
       "      <td>66.000000</td>\n",
       "      <td>77.0</td>\n",
       "      <td>68.0</td>\n",
       "      <td>88.0</td>\n",
       "      <td>2020</td>\n",
       "      <td>1</td>\n",
       "    </tr>\n",
       "    <tr>\n",
       "      <th>9</th>\n",
       "      <td>F</td>\n",
       "      <td>75.000000</td>\n",
       "      <td>71.0</td>\n",
       "      <td>87.0</td>\n",
       "      <td>89.0</td>\n",
       "      <td>2022</td>\n",
       "      <td>1</td>\n",
       "    </tr>\n",
       "    <tr>\n",
       "      <th>10</th>\n",
       "      <td>M</td>\n",
       "      <td>76.000000</td>\n",
       "      <td>89.0</td>\n",
       "      <td>87.0</td>\n",
       "      <td>87.0</td>\n",
       "      <td>2021</td>\n",
       "      <td>1</td>\n",
       "    </tr>\n",
       "    <tr>\n",
       "      <th>11</th>\n",
       "      <td>F</td>\n",
       "      <td>64.000000</td>\n",
       "      <td>82.0</td>\n",
       "      <td>85.0</td>\n",
       "      <td>89.0</td>\n",
       "      <td>2020</td>\n",
       "      <td>2</td>\n",
       "    </tr>\n",
       "    <tr>\n",
       "      <th>12</th>\n",
       "      <td>M</td>\n",
       "      <td>79.000000</td>\n",
       "      <td>80.0</td>\n",
       "      <td>83.5</td>\n",
       "      <td>89.0</td>\n",
       "      <td>2022</td>\n",
       "      <td>2</td>\n",
       "    </tr>\n",
       "    <tr>\n",
       "      <th>13</th>\n",
       "      <td>F</td>\n",
       "      <td>61.000000</td>\n",
       "      <td>80.0</td>\n",
       "      <td>83.5</td>\n",
       "      <td>88.0</td>\n",
       "      <td>2022</td>\n",
       "      <td>2</td>\n",
       "    </tr>\n",
       "  </tbody>\n",
       "</table>\n",
       "</div>"
      ],
      "text/plain": [
       "   Gender  Math score  Reading score  Writing score  Placement score  \\\n",
       "0       M   64.000000           77.0           76.0             89.0   \n",
       "1       F   65.000000           74.0           72.0             87.0   \n",
       "2       m   63.000000           83.0           82.0              NaN   \n",
       "3       F   65.000000           87.0           86.0             88.0   \n",
       "4       M   64.000000           72.0           86.0             89.0   \n",
       "5       F   78.000000           73.0           87.0             89.0   \n",
       "6       m   67.846154           80.0           67.0             90.0   \n",
       "7       F   62.000000           60.0           68.0             88.0   \n",
       "8       M   66.000000           77.0           68.0             88.0   \n",
       "9       F   75.000000           71.0           87.0             89.0   \n",
       "10      M   76.000000           89.0           87.0             87.0   \n",
       "11      F   64.000000           82.0           85.0             89.0   \n",
       "12      M   79.000000           80.0           83.5             89.0   \n",
       "13      F   61.000000           80.0           83.5             88.0   \n",
       "\n",
       "    Club join year  Placement offer count  \n",
       "0             2020                      1  \n",
       "1             2021                      2  \n",
       "2             2020                      1  \n",
       "3             2020                      1  \n",
       "4             2021                      1  \n",
       "5             2021                      2  \n",
       "6             2021                      1  \n",
       "7             2021                      1  \n",
       "8             2020                      1  \n",
       "9             2022                      1  \n",
       "10            2021                      1  \n",
       "11            2020                      2  \n",
       "12            2022                      2  \n",
       "13            2022                      2  "
      ]
     },
     "execution_count": 43,
     "metadata": {},
     "output_type": "execute_result"
    }
   ],
   "source": [
    "df"
   ]
  },
  {
   "cell_type": "code",
   "execution_count": 44,
   "metadata": {},
   "outputs": [
    {
     "data": {
      "image/png": "[encoded data removed]",
      "text/plain": [
       "<Figure size 640x480 with 1 Axes>"
      ]
     },
     "metadata": {},
     "output_type": "display_data"
    }
   ],
   "source": [
    "#ax = plt.subplots(figsize = (18,10))\n",
    "plt.scatter(df['Math score'], df['Placement offer count'])\n",
    "plt.show()"
   ]
  },
  {
   "cell_type": "code",
   "execution_count": 45,
   "metadata": {
    "colab": {
     "base_uri": "https://localhost:8080/"
    },
    "id": "ayq46kZHbunV",
    "outputId": "e24d293e-0f28-4385-cf21-bc929d75504c"
   },
   "outputs": [
    {
     "data": {
      "text/plain": [
       "Index(['Gender', 'Math score', 'Reading score', 'Writing score',\n",
       "       'Placement score', 'Club join year', 'Placement offer count'],\n",
       "      dtype='object')"
      ]
     },
     "execution_count": 45,
     "metadata": {},
     "output_type": "execute_result"
    }
   ],
   "source": [
    "df.columns"
   ]
  },
  {
   "cell_type": "code",
   "execution_count": 46,
   "metadata": {},
   "outputs": [
    {
     "data": {
      "image/png": "[encoded data removed]",
      "text/plain": [
       "<Figure size 640x480 with 1 Axes>"
      ]
     },
     "metadata": {},
     "output_type": "display_data"
    }
   ],
   "source": [
    "plt.scatter(df['Placement offer count'],df['Placement offer count'],c='yellow',linewidths = 2,marker = '.',edgecolor ='red' ,s = 50)\n",
    "plt.xlabel=(\"Placement score\")\n",
    "plt.ylabel=(\"Placement offer count\")\n",
    "plt.show()"
   ]
  },
  {
   "cell_type": "code",
   "execution_count": 47,
   "metadata": {
    "colab": {
     "base_uri": "https://localhost:8080/",
     "height": 265
    },
    "id": "kSZ5uTQSfDSV",
    "outputId": "9c04ca02-5b07-4fea-f72d-0ec48893145d"
   },
   "outputs": [
    {
     "data": {
      "image/png": "[encoded data removed]",
      "text/plain": [
       "<Figure size 640x480 with 1 Axes>"
      ]
     },
     "metadata": {},
     "output_type": "display_data"
    }
   ],
   "source": [
    "plt.scatter(x=df['Math score'],y=df['Placement score'],c='blue',linewidths = 2,marker ='^',edgecolor = 'green',s = 80)\n",
    "plt.show()"
   ]
  },
  {
   "cell_type": "code",
   "execution_count": 48,
   "metadata": {},
   "outputs": [
    {
     "name": "stdout",
     "output_type": "stream",
     "text": [
      "(array([], dtype=int64),)\n"
     ]
    }
   ],
   "source": [
    "print(np.where((df['Placement score']<50) & (df['Placement offer count']>1)))"
   ]
  },
  {
   "cell_type": "code",
   "execution_count": 49,
   "metadata": {},
   "outputs": [
    {
     "name": "stdout",
     "output_type": "stream",
     "text": [
      "(array([], dtype=int64),)\n"
     ]
    }
   ],
   "source": [
    "print(np.where((df['Placement score']<50) & (df['Placement offer count']>3)))"
   ]
  },
  {
   "cell_type": "markdown",
   "metadata": {
    "id": "dzIc5hibm4Mb"
   },
   "source": [
    "**3**.Detecting outliers using Z-SCORE: "
   ]
  },
  {
   "cell_type": "code",
   "execution_count": 50,
   "metadata": {
    "id": "g2yemN6ga4DD"
   },
   "outputs": [],
   "source": [
    "from scipy import stats"
   ]
  },
  {
   "cell_type": "code",
   "execution_count": 51,
   "metadata": {
    "colab": {
     "base_uri": "https://localhost:8080/"
    },
    "id": "IK-bB8NLbl37",
    "outputId": "8329f37b-125b-4ba7-e2a2-3c7b90f42eaf"
   },
   "outputs": [
    {
     "data": {
      "text/plain": [
       "0     0.634949\n",
       "1     0.469863\n",
       "2     0.800036\n",
       "3     0.469863\n",
       "4     0.634949\n",
       "5     1.676266\n",
       "6     0.000000\n",
       "7     0.965123\n",
       "8     0.304776\n",
       "9     1.181006\n",
       "10    1.346093\n",
       "11    0.634949\n",
       "12    1.841353\n",
       "13    1.130210\n",
       "Name: Math score, dtype: float64"
      ]
     },
     "execution_count": 51,
     "metadata": {},
     "output_type": "execute_result"
    }
   ],
   "source": [
    "z = np.abs(stats.zscore(df['Math score']))\n",
    "z"
   ]
  },
  {
   "cell_type": "code",
   "execution_count": 52,
   "metadata": {
    "colab": {
     "base_uri": "https://localhost:8080/"
    },
    "id": "aXrW6T-tbsCh",
    "outputId": "23bedf74-0925-44b9-d741-34b1f5872fe1"
   },
   "outputs": [
    {
     "data": {
      "text/plain": [
       "(array([12], dtype=int64),)"
      ]
     },
     "execution_count": 52,
     "metadata": {},
     "output_type": "execute_result"
    }
   ],
   "source": [
    "threshold =1.8\n",
    "sample_outliers = np.where(z >threshold)\n",
    "sample_outliers"
   ]
  },
  {
   "cell_type": "code",
   "execution_count": 53,
   "metadata": {
    "colab": {
     "base_uri": "https://localhost:8080/"
    },
    "id": "4D-cc01nb8R4",
    "outputId": "e22a4df7-a99a-46e3-adf0-7ae2307a3d80"
   },
   "outputs": [
    {
     "data": {
      "text/plain": [
       "0     64.000000\n",
       "1     65.000000\n",
       "2     63.000000\n",
       "3     65.000000\n",
       "4     64.000000\n",
       "5     78.000000\n",
       "6     67.846154\n",
       "7     62.000000\n",
       "8     66.000000\n",
       "9     75.000000\n",
       "10    76.000000\n",
       "11    64.000000\n",
       "12    79.000000\n",
       "13    61.000000\n",
       "Name: Math score, dtype: float64"
      ]
     },
     "execution_count": 53,
     "metadata": {},
     "output_type": "execute_result"
    }
   ],
   "source": [
    "df['Math score']"
   ]
  },
  {
   "cell_type": "markdown",
   "metadata": {
    "id": "oakzkF31cal3"
   },
   "source": [
    "## **Detecting outliers using Inter Quantile Range(IQR):**\n",
    "IQR = Quartile3 - Quartile1\n",
    "To define the outlier base value is defined above and below datasets normal range namely Upper and Lower bounds, define the\n",
    "upper and the lower bound (1.5*IQR value is considered) :\n",
    "\n",
    "upper = Q3 +1.5*IQR\n",
    "\n",
    "lower = Q1 -1.5*IQR"
   ]
  },
  {
   "cell_type": "code",
   "execution_count": 54,
   "metadata": {
    "colab": {
     "base_uri": "https://localhost:8080/"
    },
    "id": "sh-Fzaqke8we",
    "outputId": "403c6bf6-929b-40bb-fcbb-30abfbfc1ce1"
   },
   "outputs": [
    {
     "data": {
      "text/plain": [
       "[60.0,\n",
       " 71.0,\n",
       " 72.0,\n",
       " 73.0,\n",
       " 74.0,\n",
       " 77.0,\n",
       " 77.0,\n",
       " 80.0,\n",
       " 80.0,\n",
       " 80.0,\n",
       " 82.0,\n",
       " 83.0,\n",
       " 87.0,\n",
       " 89.0]"
      ]
     },
     "execution_count": 54,
     "metadata": {},
     "output_type": "execute_result"
    }
   ],
   "source": [
    "sorted_rscore= sorted(df['Reading score'])\n",
    "sorted_rscore"
   ]
  },
  {
   "cell_type": "code",
   "execution_count": 55,
   "metadata": {
    "colab": {
     "base_uri": "https://localhost:8080/"
    },
    "id": "okt5wNKwfXPG",
    "outputId": "4b1a22be-2ea7-4d27-ff95-1f45241fd207"
   },
   "outputs": [
    {
     "name": "stdout",
     "output_type": "stream",
     "text": [
      "73.25 81.5\n"
     ]
    }
   ],
   "source": [
    "# Calculate and print Quartile 1 and Quartile 3\n",
    "q1 = np.percentile(sorted_rscore, 25)\n",
    "q3 = np.percentile(sorted_rscore, 75)\n",
    "print(q1,q3)\n"
   ]
  },
  {
   "cell_type": "code",
   "execution_count": 56,
   "metadata": {
    "colab": {
     "base_uri": "https://localhost:8080/"
    },
    "id": "qc5nO-Dff9Av",
    "outputId": "07c31604-8c68-434d-f229-e1f329025404"
   },
   "outputs": [
    {
     "data": {
      "text/plain": [
       "8.25"
      ]
     },
     "execution_count": 56,
     "metadata": {},
     "output_type": "execute_result"
    }
   ],
   "source": [
    "IQR = q3-q1\n",
    "IQR"
   ]
  },
  {
   "cell_type": "code",
   "execution_count": 57,
   "metadata": {
    "colab": {
     "base_uri": "https://localhost:8080/"
    },
    "id": "_Cx91iZZgPnP",
    "outputId": "05485273-7fb9-4d28-e200-18074b560e26"
   },
   "outputs": [
    {
     "name": "stdout",
     "output_type": "stream",
     "text": [
      "60.875 93.875\n"
     ]
    }
   ],
   "source": [
    "lwr_bound = q1-(1.5*IQR)\n",
    "upr_bound = q3+(1.5*IQR)\n",
    "print(lwr_bound, upr_bound)"
   ]
  },
  {
   "cell_type": "code",
   "execution_count": 58,
   "metadata": {
    "colab": {
     "base_uri": "https://localhost:8080/"
    },
    "id": "mxaBDPo4hLxW",
    "outputId": "9a15ae72-390c-4c15-d78c-d3d64b1f40ed"
   },
   "outputs": [
    {
     "name": "stdout",
     "output_type": "stream",
     "text": [
      "[60.0]\n"
     ]
    }
   ],
   "source": [
    "#print outliers\n",
    "r_outliers = []\n",
    "for i in sorted_rscore:\n",
    "  if (i<lwr_bound or i>upr_bound):\n",
    "    r_outliers.append(i)\n",
    "    print(r_outliers)"
   ]
  },
  {
   "cell_type": "code",
   "execution_count": 59,
   "metadata": {
    "colab": {
     "base_uri": "https://localhost:8080/"
    },
    "id": "bW39y4iFl6fH",
    "outputId": "3aebfb2a-2b79-4882-ae26-7dc18d4de176"
   },
   "outputs": [
    {
     "data": {
      "text/plain": [
       "0     77.0\n",
       "1     74.0\n",
       "2     83.0\n",
       "3     87.0\n",
       "4     72.0\n",
       "5     73.0\n",
       "6     80.0\n",
       "7     60.0\n",
       "8     77.0\n",
       "9     71.0\n",
       "10    89.0\n",
       "11    82.0\n",
       "12    80.0\n",
       "13    80.0\n",
       "Name: Reading score, dtype: float64"
      ]
     },
     "execution_count": 59,
     "metadata": {},
     "output_type": "execute_result"
    }
   ],
   "source": [
    "df['Reading score']"
   ]
  },
  {
   "cell_type": "markdown",
   "metadata": {
    "id": "ZdRdLQ9ymHYw"
   },
   "source": [
    "# # Handling of Outliers:"
   ]
  },
  {
   "cell_type": "markdown",
   "metadata": {
    "id": "BRkSgUulmsB_"
   },
   "source": [
    "## **1.Trimming\\removing the outliers:**"
   ]
  },
  {
   "cell_type": "code",
   "execution_count": 60,
   "metadata": {
    "id": "QNBobZN3mEbP"
   },
   "outputs": [],
   "source": [
    "new_df=df.copy()\n",
    "for i in sample_outliers:\n",
    "  new_df.drop(i,inplace=True)\n",
    "  new_df"
   ]
  },
  {
   "cell_type": "markdown",
   "metadata": {
    "id": "ek9M_LQ7nSgf"
   },
   "source": [
    "## **2.Quantile based flooring and capping**"
   ]
  },
  {
   "cell_type": "code",
   "execution_count": 61,
   "metadata": {
    "id": "CbXdzEMfnQoo"
   },
   "outputs": [],
   "source": [
    "df_stud=df.copy()"
   ]
  },
  {
   "cell_type": "code",
   "execution_count": 62,
   "metadata": {
    "colab": {
     "base_uri": "https://localhost:8080/",
     "height": 959
    },
    "id": "1afv9rpSnpsf",
    "outputId": "f32fb2d4-ec13-4b7b-ed5b-b1805bbe7e11"
   },
   "outputs": [
    {
     "data": {
      "text/html": [
       "<div>\n",
       "<style scoped>\n",
       "    .dataframe tbody tr th:only-of-type {\n",
       "        vertical-align: middle;\n",
       "    }\n",
       "\n",
       "    .dataframe tbody tr th {\n",
       "        vertical-align: top;\n",
       "    }\n",
       "\n",
       "    .dataframe thead th {\n",
       "        text-align: right;\n",
       "    }\n",
       "</style>\n",
       "<table border=\"1\" class=\"dataframe\">\n",
       "  <thead>\n",
       "    <tr style=\"text-align: right;\">\n",
       "      <th></th>\n",
       "      <th>Gender</th>\n",
       "      <th>Math score</th>\n",
       "      <th>Reading score</th>\n",
       "      <th>Writing score</th>\n",
       "      <th>Placement score</th>\n",
       "      <th>Club join year</th>\n",
       "      <th>Placement offer count</th>\n",
       "    </tr>\n",
       "  </thead>\n",
       "  <tbody>\n",
       "    <tr>\n",
       "      <th>0</th>\n",
       "      <td>M</td>\n",
       "      <td>64.000000</td>\n",
       "      <td>77.0</td>\n",
       "      <td>76.0</td>\n",
       "      <td>89.0</td>\n",
       "      <td>2020</td>\n",
       "      <td>1</td>\n",
       "    </tr>\n",
       "    <tr>\n",
       "      <th>1</th>\n",
       "      <td>F</td>\n",
       "      <td>65.000000</td>\n",
       "      <td>74.0</td>\n",
       "      <td>72.0</td>\n",
       "      <td>87.0</td>\n",
       "      <td>2021</td>\n",
       "      <td>2</td>\n",
       "    </tr>\n",
       "    <tr>\n",
       "      <th>2</th>\n",
       "      <td>m</td>\n",
       "      <td>63.000000</td>\n",
       "      <td>83.0</td>\n",
       "      <td>82.0</td>\n",
       "      <td>NaN</td>\n",
       "      <td>2020</td>\n",
       "      <td>1</td>\n",
       "    </tr>\n",
       "    <tr>\n",
       "      <th>3</th>\n",
       "      <td>F</td>\n",
       "      <td>65.000000</td>\n",
       "      <td>87.0</td>\n",
       "      <td>86.0</td>\n",
       "      <td>88.0</td>\n",
       "      <td>2020</td>\n",
       "      <td>1</td>\n",
       "    </tr>\n",
       "    <tr>\n",
       "      <th>4</th>\n",
       "      <td>M</td>\n",
       "      <td>64.000000</td>\n",
       "      <td>72.0</td>\n",
       "      <td>86.0</td>\n",
       "      <td>89.0</td>\n",
       "      <td>2021</td>\n",
       "      <td>1</td>\n",
       "    </tr>\n",
       "    <tr>\n",
       "      <th>5</th>\n",
       "      <td>F</td>\n",
       "      <td>78.000000</td>\n",
       "      <td>73.0</td>\n",
       "      <td>87.0</td>\n",
       "      <td>89.0</td>\n",
       "      <td>2021</td>\n",
       "      <td>2</td>\n",
       "    </tr>\n",
       "    <tr>\n",
       "      <th>6</th>\n",
       "      <td>m</td>\n",
       "      <td>67.846154</td>\n",
       "      <td>80.0</td>\n",
       "      <td>67.0</td>\n",
       "      <td>90.0</td>\n",
       "      <td>2021</td>\n",
       "      <td>1</td>\n",
       "    </tr>\n",
       "    <tr>\n",
       "      <th>7</th>\n",
       "      <td>F</td>\n",
       "      <td>62.000000</td>\n",
       "      <td>60.0</td>\n",
       "      <td>68.0</td>\n",
       "      <td>88.0</td>\n",
       "      <td>2021</td>\n",
       "      <td>1</td>\n",
       "    </tr>\n",
       "    <tr>\n",
       "      <th>8</th>\n",
       "      <td>M</td>\n",
       "      <td>66.000000</td>\n",
       "      <td>77.0</td>\n",
       "      <td>68.0</td>\n",
       "      <td>88.0</td>\n",
       "      <td>2020</td>\n",
       "      <td>1</td>\n",
       "    </tr>\n",
       "    <tr>\n",
       "      <th>9</th>\n",
       "      <td>F</td>\n",
       "      <td>75.000000</td>\n",
       "      <td>71.0</td>\n",
       "      <td>87.0</td>\n",
       "      <td>89.0</td>\n",
       "      <td>2022</td>\n",
       "      <td>1</td>\n",
       "    </tr>\n",
       "    <tr>\n",
       "      <th>10</th>\n",
       "      <td>M</td>\n",
       "      <td>76.000000</td>\n",
       "      <td>89.0</td>\n",
       "      <td>87.0</td>\n",
       "      <td>87.0</td>\n",
       "      <td>2021</td>\n",
       "      <td>1</td>\n",
       "    </tr>\n",
       "    <tr>\n",
       "      <th>11</th>\n",
       "      <td>F</td>\n",
       "      <td>64.000000</td>\n",
       "      <td>82.0</td>\n",
       "      <td>85.0</td>\n",
       "      <td>89.0</td>\n",
       "      <td>2020</td>\n",
       "      <td>2</td>\n",
       "    </tr>\n",
       "    <tr>\n",
       "      <th>12</th>\n",
       "      <td>M</td>\n",
       "      <td>79.000000</td>\n",
       "      <td>80.0</td>\n",
       "      <td>83.5</td>\n",
       "      <td>89.0</td>\n",
       "      <td>2022</td>\n",
       "      <td>2</td>\n",
       "    </tr>\n",
       "    <tr>\n",
       "      <th>13</th>\n",
       "      <td>F</td>\n",
       "      <td>61.000000</td>\n",
       "      <td>80.0</td>\n",
       "      <td>83.5</td>\n",
       "      <td>88.0</td>\n",
       "      <td>2022</td>\n",
       "      <td>2</td>\n",
       "    </tr>\n",
       "  </tbody>\n",
       "</table>\n",
       "</div>"
      ],
      "text/plain": [
       "   Gender  Math score  Reading score  Writing score  Placement score  \\\n",
       "0       M   64.000000           77.0           76.0             89.0   \n",
       "1       F   65.000000           74.0           72.0             87.0   \n",
       "2       m   63.000000           83.0           82.0              NaN   \n",
       "3       F   65.000000           87.0           86.0             88.0   \n",
       "4       M   64.000000           72.0           86.0             89.0   \n",
       "5       F   78.000000           73.0           87.0             89.0   \n",
       "6       m   67.846154           80.0           67.0             90.0   \n",
       "7       F   62.000000           60.0           68.0             88.0   \n",
       "8       M   66.000000           77.0           68.0             88.0   \n",
       "9       F   75.000000           71.0           87.0             89.0   \n",
       "10      M   76.000000           89.0           87.0             87.0   \n",
       "11      F   64.000000           82.0           85.0             89.0   \n",
       "12      M   79.000000           80.0           83.5             89.0   \n",
       "13      F   61.000000           80.0           83.5             88.0   \n",
       "\n",
       "    Club join year  Placement offer count  \n",
       "0             2020                      1  \n",
       "1             2021                      2  \n",
       "2             2020                      1  \n",
       "3             2020                      1  \n",
       "4             2021                      1  \n",
       "5             2021                      2  \n",
       "6             2021                      1  \n",
       "7             2021                      1  \n",
       "8             2020                      1  \n",
       "9             2022                      1  \n",
       "10            2021                      1  \n",
       "11            2020                      2  \n",
       "12            2022                      2  \n",
       "13            2022                      2  "
      ]
     },
     "execution_count": 62,
     "metadata": {},
     "output_type": "execute_result"
    }
   ],
   "source": [
    "df_stud"
   ]
  },
  {
   "cell_type": "code",
   "execution_count": 63,
   "metadata": {
    "colab": {
     "base_uri": "https://localhost:8080/"
    },
    "id": "09OpGLDZnsw2",
    "outputId": "476e07e0-4b6e-4463-a467-173b732e0f9d"
   },
   "outputs": [
    {
     "name": "stdout",
     "output_type": "stream",
     "text": [
      "62.3\n",
      "77.4\n"
     ]
    }
   ],
   "source": [
    "print(df_stud['Math score'].quantile(0.10))\n",
    "print(df_stud['Math score'].quantile(0.90))"
   ]
  },
  {
   "cell_type": "code",
   "execution_count": 64,
   "metadata": {
    "id": "zDBm-2c_oBPn"
   },
   "outputs": [],
   "source": [
    "df_stud1=df_stud.copy()\n",
    "a= np.where(df_stud['Math score']<62.0, 62.0,df_stud1['Math score'])\n",
    "b= np.where(df_stud['Math score']<79.1, 79.1,df_stud1['Math score'])"
   ]
  },
  {
   "cell_type": "code",
   "execution_count": 65,
   "metadata": {
    "colab": {
     "base_uri": "https://localhost:8080/"
    },
    "id": "azzFufcRoxnf",
    "outputId": "6624728d-75e3-4030-fd30-3bba9001822a"
   },
   "outputs": [
    {
     "name": "stdout",
     "output_type": "stream",
     "text": [
      "a= [64.         65.         63.         65.         64.         78.\n",
      " 67.84615385 62.         66.         75.         76.         64.\n",
      " 79.         62.        ]\n",
      "b= [79.1 79.1 79.1 79.1 79.1 79.1 79.1 79.1 79.1 79.1 79.1 79.1 79.1 79.1]\n"
     ]
    }
   ],
   "source": [
    "print(\"a=\",a)\n",
    "print(\"b=\",b)"
   ]
  },
  {
   "cell_type": "code",
   "execution_count": 66,
   "metadata": {
    "colab": {
     "base_uri": "https://localhost:8080/",
     "height": 959
    },
    "id": "K32mvKkKpJdA",
    "outputId": "159cd936-1c56-4778-805f-4b43b193884d"
   },
   "outputs": [
    {
     "data": {
      "text/html": [
       "<div>\n",
       "<style scoped>\n",
       "    .dataframe tbody tr th:only-of-type {\n",
       "        vertical-align: middle;\n",
       "    }\n",
       "\n",
       "    .dataframe tbody tr th {\n",
       "        vertical-align: top;\n",
       "    }\n",
       "\n",
       "    .dataframe thead th {\n",
       "        text-align: right;\n",
       "    }\n",
       "</style>\n",
       "<table border=\"1\" class=\"dataframe\">\n",
       "  <thead>\n",
       "    <tr style=\"text-align: right;\">\n",
       "      <th></th>\n",
       "      <th>Gender</th>\n",
       "      <th>new_math&lt;79.1</th>\n",
       "      <th>new_math&lt;62</th>\n",
       "      <th>Math score</th>\n",
       "      <th>Reading score</th>\n",
       "      <th>Writing score</th>\n",
       "      <th>Placement score</th>\n",
       "      <th>Club join year</th>\n",
       "      <th>Placement offer count</th>\n",
       "    </tr>\n",
       "  </thead>\n",
       "  <tbody>\n",
       "    <tr>\n",
       "      <th>0</th>\n",
       "      <td>M</td>\n",
       "      <td>79.1</td>\n",
       "      <td>64.000000</td>\n",
       "      <td>64.000000</td>\n",
       "      <td>77.0</td>\n",
       "      <td>76.0</td>\n",
       "      <td>89.0</td>\n",
       "      <td>2020</td>\n",
       "      <td>1</td>\n",
       "    </tr>\n",
       "    <tr>\n",
       "      <th>1</th>\n",
       "      <td>F</td>\n",
       "      <td>79.1</td>\n",
       "      <td>65.000000</td>\n",
       "      <td>65.000000</td>\n",
       "      <td>74.0</td>\n",
       "      <td>72.0</td>\n",
       "      <td>87.0</td>\n",
       "      <td>2021</td>\n",
       "      <td>2</td>\n",
       "    </tr>\n",
       "    <tr>\n",
       "      <th>2</th>\n",
       "      <td>m</td>\n",
       "      <td>79.1</td>\n",
       "      <td>63.000000</td>\n",
       "      <td>63.000000</td>\n",
       "      <td>83.0</td>\n",
       "      <td>82.0</td>\n",
       "      <td>NaN</td>\n",
       "      <td>2020</td>\n",
       "      <td>1</td>\n",
       "    </tr>\n",
       "    <tr>\n",
       "      <th>3</th>\n",
       "      <td>F</td>\n",
       "      <td>79.1</td>\n",
       "      <td>65.000000</td>\n",
       "      <td>65.000000</td>\n",
       "      <td>87.0</td>\n",
       "      <td>86.0</td>\n",
       "      <td>88.0</td>\n",
       "      <td>2020</td>\n",
       "      <td>1</td>\n",
       "    </tr>\n",
       "    <tr>\n",
       "      <th>4</th>\n",
       "      <td>M</td>\n",
       "      <td>79.1</td>\n",
       "      <td>64.000000</td>\n",
       "      <td>64.000000</td>\n",
       "      <td>72.0</td>\n",
       "      <td>86.0</td>\n",
       "      <td>89.0</td>\n",
       "      <td>2021</td>\n",
       "      <td>1</td>\n",
       "    </tr>\n",
       "    <tr>\n",
       "      <th>5</th>\n",
       "      <td>F</td>\n",
       "      <td>79.1</td>\n",
       "      <td>78.000000</td>\n",
       "      <td>78.000000</td>\n",
       "      <td>73.0</td>\n",
       "      <td>87.0</td>\n",
       "      <td>89.0</td>\n",
       "      <td>2021</td>\n",
       "      <td>2</td>\n",
       "    </tr>\n",
       "    <tr>\n",
       "      <th>6</th>\n",
       "      <td>m</td>\n",
       "      <td>79.1</td>\n",
       "      <td>67.846154</td>\n",
       "      <td>67.846154</td>\n",
       "      <td>80.0</td>\n",
       "      <td>67.0</td>\n",
       "      <td>90.0</td>\n",
       "      <td>2021</td>\n",
       "      <td>1</td>\n",
       "    </tr>\n",
       "    <tr>\n",
       "      <th>7</th>\n",
       "      <td>F</td>\n",
       "      <td>79.1</td>\n",
       "      <td>62.000000</td>\n",
       "      <td>62.000000</td>\n",
       "      <td>60.0</td>\n",
       "      <td>68.0</td>\n",
       "      <td>88.0</td>\n",
       "      <td>2021</td>\n",
       "      <td>1</td>\n",
       "    </tr>\n",
       "    <tr>\n",
       "      <th>8</th>\n",
       "      <td>M</td>\n",
       "      <td>79.1</td>\n",
       "      <td>66.000000</td>\n",
       "      <td>66.000000</td>\n",
       "      <td>77.0</td>\n",
       "      <td>68.0</td>\n",
       "      <td>88.0</td>\n",
       "      <td>2020</td>\n",
       "      <td>1</td>\n",
       "    </tr>\n",
       "    <tr>\n",
       "      <th>9</th>\n",
       "      <td>F</td>\n",
       "      <td>79.1</td>\n",
       "      <td>75.000000</td>\n",
       "      <td>75.000000</td>\n",
       "      <td>71.0</td>\n",
       "      <td>87.0</td>\n",
       "      <td>89.0</td>\n",
       "      <td>2022</td>\n",
       "      <td>1</td>\n",
       "    </tr>\n",
       "    <tr>\n",
       "      <th>10</th>\n",
       "      <td>M</td>\n",
       "      <td>79.1</td>\n",
       "      <td>76.000000</td>\n",
       "      <td>76.000000</td>\n",
       "      <td>89.0</td>\n",
       "      <td>87.0</td>\n",
       "      <td>87.0</td>\n",
       "      <td>2021</td>\n",
       "      <td>1</td>\n",
       "    </tr>\n",
       "    <tr>\n",
       "      <th>11</th>\n",
       "      <td>F</td>\n",
       "      <td>79.1</td>\n",
       "      <td>64.000000</td>\n",
       "      <td>64.000000</td>\n",
       "      <td>82.0</td>\n",
       "      <td>85.0</td>\n",
       "      <td>89.0</td>\n",
       "      <td>2020</td>\n",
       "      <td>2</td>\n",
       "    </tr>\n",
       "    <tr>\n",
       "      <th>12</th>\n",
       "      <td>M</td>\n",
       "      <td>79.1</td>\n",
       "      <td>79.000000</td>\n",
       "      <td>79.000000</td>\n",
       "      <td>80.0</td>\n",
       "      <td>83.5</td>\n",
       "      <td>89.0</td>\n",
       "      <td>2022</td>\n",
       "      <td>2</td>\n",
       "    </tr>\n",
       "    <tr>\n",
       "      <th>13</th>\n",
       "      <td>F</td>\n",
       "      <td>79.1</td>\n",
       "      <td>62.000000</td>\n",
       "      <td>61.000000</td>\n",
       "      <td>80.0</td>\n",
       "      <td>83.5</td>\n",
       "      <td>88.0</td>\n",
       "      <td>2022</td>\n",
       "      <td>2</td>\n",
       "    </tr>\n",
       "  </tbody>\n",
       "</table>\n",
       "</div>"
      ],
      "text/plain": [
       "   Gender  new_math<79.1  new_math<62  Math score  Reading score  \\\n",
       "0       M           79.1    64.000000   64.000000           77.0   \n",
       "1       F           79.1    65.000000   65.000000           74.0   \n",
       "2       m           79.1    63.000000   63.000000           83.0   \n",
       "3       F           79.1    65.000000   65.000000           87.0   \n",
       "4       M           79.1    64.000000   64.000000           72.0   \n",
       "5       F           79.1    78.000000   78.000000           73.0   \n",
       "6       m           79.1    67.846154   67.846154           80.0   \n",
       "7       F           79.1    62.000000   62.000000           60.0   \n",
       "8       M           79.1    66.000000   66.000000           77.0   \n",
       "9       F           79.1    75.000000   75.000000           71.0   \n",
       "10      M           79.1    76.000000   76.000000           89.0   \n",
       "11      F           79.1    64.000000   64.000000           82.0   \n",
       "12      M           79.1    79.000000   79.000000           80.0   \n",
       "13      F           79.1    62.000000   61.000000           80.0   \n",
       "\n",
       "    Writing score  Placement score  Club join year  Placement offer count  \n",
       "0            76.0             89.0            2020                      1  \n",
       "1            72.0             87.0            2021                      2  \n",
       "2            82.0              NaN            2020                      1  \n",
       "3            86.0             88.0            2020                      1  \n",
       "4            86.0             89.0            2021                      1  \n",
       "5            87.0             89.0            2021                      2  \n",
       "6            67.0             90.0            2021                      1  \n",
       "7            68.0             88.0            2021                      1  \n",
       "8            68.0             88.0            2020                      1  \n",
       "9            87.0             89.0            2022                      1  \n",
       "10           87.0             87.0            2021                      1  \n",
       "11           85.0             89.0            2020                      2  \n",
       "12           83.5             89.0            2022                      2  \n",
       "13           83.5             88.0            2022                      2  "
      ]
     },
     "execution_count": 66,
     "metadata": {},
     "output_type": "execute_result"
    }
   ],
   "source": [
    "df_stud.insert(1,\"new_math<62\",a,True)\n",
    "df_stud.insert(1,\"new_math<79.1\",b,True)\n",
    "df_stud"
   ]
  },
  {
   "cell_type": "markdown",
   "metadata": {
    "id": "qnAhYOsnqF0H"
   },
   "source": [
    "## **Imputing median value**"
   ]
  },
  {
   "cell_type": "code",
   "execution_count": 67,
   "metadata": {
    "colab": {
     "base_uri": "https://localhost:8080/",
     "height": 265
    },
    "id": "v_Jyyo4qqDFP",
    "outputId": "6b6c1289-b14d-42e0-91cd-3d38f32c8575"
   },
   "outputs": [
    {
     "data": {
      "image/png": "[encoded data removed]",
      "text/plain": [
       "<Figure size 640x480 with 1 Axes>"
      ]
     },
     "metadata": {},
     "output_type": "display_data"
    }
   ],
   "source": [
    "#col = ['reading score']\n",
    "plt.boxplot(df['Reading score'])\n",
    "plt.show()"
   ]
  },
  {
   "cell_type": "code",
   "execution_count": 68,
   "metadata": {
    "colab": {
     "base_uri": "https://localhost:8080/"
    },
    "id": "D-bliTgzufs3",
    "outputId": "06790868-4570-4866-a104-9816744abeaa"
   },
   "outputs": [
    {
     "data": {
      "text/plain": [
       "78.5"
      ]
     },
     "execution_count": 68,
     "metadata": {},
     "output_type": "execute_result"
    }
   ],
   "source": [
    "median=np.median(sorted_rscore)\n",
    "median"
   ]
  },
  {
   "cell_type": "code",
   "execution_count": 69,
   "metadata": {
    "colab": {
     "base_uri": "https://localhost:8080/",
     "height": 959
    },
    "id": "2tmiABf3uwvO",
    "outputId": "ffebffc0-20c7-4bea-ce98-2586968363d8"
   },
   "outputs": [
    {
     "data": {
      "text/html": [
       "<div>\n",
       "<style scoped>\n",
       "    .dataframe tbody tr th:only-of-type {\n",
       "        vertical-align: middle;\n",
       "    }\n",
       "\n",
       "    .dataframe tbody tr th {\n",
       "        vertical-align: top;\n",
       "    }\n",
       "\n",
       "    .dataframe thead th {\n",
       "        text-align: right;\n",
       "    }\n",
       "</style>\n",
       "<table border=\"1\" class=\"dataframe\">\n",
       "  <thead>\n",
       "    <tr style=\"text-align: right;\">\n",
       "      <th></th>\n",
       "      <th>Gender</th>\n",
       "      <th>Math score</th>\n",
       "      <th>Reading score</th>\n",
       "      <th>Writing score</th>\n",
       "      <th>Placement score</th>\n",
       "      <th>Club join year</th>\n",
       "      <th>Placement offer count</th>\n",
       "    </tr>\n",
       "  </thead>\n",
       "  <tbody>\n",
       "    <tr>\n",
       "      <th>0</th>\n",
       "      <td>M</td>\n",
       "      <td>64.000000</td>\n",
       "      <td>77.0</td>\n",
       "      <td>76.0</td>\n",
       "      <td>89.0</td>\n",
       "      <td>2020</td>\n",
       "      <td>1</td>\n",
       "    </tr>\n",
       "    <tr>\n",
       "      <th>1</th>\n",
       "      <td>F</td>\n",
       "      <td>65.000000</td>\n",
       "      <td>74.0</td>\n",
       "      <td>72.0</td>\n",
       "      <td>87.0</td>\n",
       "      <td>2021</td>\n",
       "      <td>2</td>\n",
       "    </tr>\n",
       "    <tr>\n",
       "      <th>2</th>\n",
       "      <td>m</td>\n",
       "      <td>63.000000</td>\n",
       "      <td>83.0</td>\n",
       "      <td>82.0</td>\n",
       "      <td>NaN</td>\n",
       "      <td>2020</td>\n",
       "      <td>1</td>\n",
       "    </tr>\n",
       "    <tr>\n",
       "      <th>3</th>\n",
       "      <td>F</td>\n",
       "      <td>65.000000</td>\n",
       "      <td>87.0</td>\n",
       "      <td>86.0</td>\n",
       "      <td>88.0</td>\n",
       "      <td>2020</td>\n",
       "      <td>1</td>\n",
       "    </tr>\n",
       "    <tr>\n",
       "      <th>4</th>\n",
       "      <td>M</td>\n",
       "      <td>64.000000</td>\n",
       "      <td>72.0</td>\n",
       "      <td>86.0</td>\n",
       "      <td>89.0</td>\n",
       "      <td>2021</td>\n",
       "      <td>1</td>\n",
       "    </tr>\n",
       "    <tr>\n",
       "      <th>5</th>\n",
       "      <td>F</td>\n",
       "      <td>78.000000</td>\n",
       "      <td>73.0</td>\n",
       "      <td>87.0</td>\n",
       "      <td>89.0</td>\n",
       "      <td>2021</td>\n",
       "      <td>2</td>\n",
       "    </tr>\n",
       "    <tr>\n",
       "      <th>6</th>\n",
       "      <td>m</td>\n",
       "      <td>67.846154</td>\n",
       "      <td>80.0</td>\n",
       "      <td>67.0</td>\n",
       "      <td>90.0</td>\n",
       "      <td>2021</td>\n",
       "      <td>1</td>\n",
       "    </tr>\n",
       "    <tr>\n",
       "      <th>7</th>\n",
       "      <td>F</td>\n",
       "      <td>62.000000</td>\n",
       "      <td>60.0</td>\n",
       "      <td>68.0</td>\n",
       "      <td>88.0</td>\n",
       "      <td>2021</td>\n",
       "      <td>1</td>\n",
       "    </tr>\n",
       "    <tr>\n",
       "      <th>8</th>\n",
       "      <td>M</td>\n",
       "      <td>66.000000</td>\n",
       "      <td>77.0</td>\n",
       "      <td>68.0</td>\n",
       "      <td>88.0</td>\n",
       "      <td>2020</td>\n",
       "      <td>1</td>\n",
       "    </tr>\n",
       "    <tr>\n",
       "      <th>9</th>\n",
       "      <td>F</td>\n",
       "      <td>75.000000</td>\n",
       "      <td>71.0</td>\n",
       "      <td>87.0</td>\n",
       "      <td>89.0</td>\n",
       "      <td>2022</td>\n",
       "      <td>1</td>\n",
       "    </tr>\n",
       "    <tr>\n",
       "      <th>10</th>\n",
       "      <td>M</td>\n",
       "      <td>76.000000</td>\n",
       "      <td>89.0</td>\n",
       "      <td>87.0</td>\n",
       "      <td>87.0</td>\n",
       "      <td>2021</td>\n",
       "      <td>1</td>\n",
       "    </tr>\n",
       "    <tr>\n",
       "      <th>11</th>\n",
       "      <td>F</td>\n",
       "      <td>64.000000</td>\n",
       "      <td>82.0</td>\n",
       "      <td>85.0</td>\n",
       "      <td>89.0</td>\n",
       "      <td>2020</td>\n",
       "      <td>2</td>\n",
       "    </tr>\n",
       "    <tr>\n",
       "      <th>12</th>\n",
       "      <td>M</td>\n",
       "      <td>79.000000</td>\n",
       "      <td>80.0</td>\n",
       "      <td>83.5</td>\n",
       "      <td>89.0</td>\n",
       "      <td>2022</td>\n",
       "      <td>2</td>\n",
       "    </tr>\n",
       "    <tr>\n",
       "      <th>13</th>\n",
       "      <td>F</td>\n",
       "      <td>61.000000</td>\n",
       "      <td>80.0</td>\n",
       "      <td>83.5</td>\n",
       "      <td>88.0</td>\n",
       "      <td>2022</td>\n",
       "      <td>2</td>\n",
       "    </tr>\n",
       "  </tbody>\n",
       "</table>\n",
       "</div>"
      ],
      "text/plain": [
       "   Gender  Math score  Reading score  Writing score  Placement score  \\\n",
       "0       M   64.000000           77.0           76.0             89.0   \n",
       "1       F   65.000000           74.0           72.0             87.0   \n",
       "2       m   63.000000           83.0           82.0              NaN   \n",
       "3       F   65.000000           87.0           86.0             88.0   \n",
       "4       M   64.000000           72.0           86.0             89.0   \n",
       "5       F   78.000000           73.0           87.0             89.0   \n",
       "6       m   67.846154           80.0           67.0             90.0   \n",
       "7       F   62.000000           60.0           68.0             88.0   \n",
       "8       M   66.000000           77.0           68.0             88.0   \n",
       "9       F   75.000000           71.0           87.0             89.0   \n",
       "10      M   76.000000           89.0           87.0             87.0   \n",
       "11      F   64.000000           82.0           85.0             89.0   \n",
       "12      M   79.000000           80.0           83.5             89.0   \n",
       "13      F   61.000000           80.0           83.5             88.0   \n",
       "\n",
       "    Club join year  Placement offer count  \n",
       "0             2020                      1  \n",
       "1             2021                      2  \n",
       "2             2020                      1  \n",
       "3             2020                      1  \n",
       "4             2021                      1  \n",
       "5             2021                      2  \n",
       "6             2021                      1  \n",
       "7             2021                      1  \n",
       "8             2020                      1  \n",
       "9             2022                      1  \n",
       "10            2021                      1  \n",
       "11            2020                      2  \n",
       "12            2022                      2  \n",
       "13            2022                      2  "
      ]
     },
     "execution_count": 69,
     "metadata": {},
     "output_type": "execute_result"
    }
   ],
   "source": [
    "new_df=df.copy()\n",
    "new_df2=new_df.copy()\n",
    "new_df"
   ]
  },
  {
   "cell_type": "code",
   "execution_count": 70,
   "metadata": {
    "id": "d4pCIaORvEbH"
   },
   "outputs": [],
   "source": [
    "new_df['Reading score']= np.where(new_df['Reading score']>upr_bound,73.0,new_df['Reading score'])"
   ]
  },
  {
   "cell_type": "code",
   "execution_count": 71,
   "metadata": {
    "id": "PUrhVQCavdPN"
   },
   "outputs": [],
   "source": [
    "new_df.insert(2,\"old_reading score\",new_df2['Reading score'],True)"
   ]
  },
  {
   "cell_type": "code",
   "execution_count": 72,
   "metadata": {
    "colab": {
     "base_uri": "https://localhost:8080/",
     "height": 959
    },
    "id": "aEgr8_yXvtn2",
    "outputId": "63e5970d-5195-4d93-e12d-685360801c7b"
   },
   "outputs": [
    {
     "data": {
      "text/html": [
       "<div>\n",
       "<style scoped>\n",
       "    .dataframe tbody tr th:only-of-type {\n",
       "        vertical-align: middle;\n",
       "    }\n",
       "\n",
       "    .dataframe tbody tr th {\n",
       "        vertical-align: top;\n",
       "    }\n",
       "\n",
       "    .dataframe thead th {\n",
       "        text-align: right;\n",
       "    }\n",
       "</style>\n",
       "<table border=\"1\" class=\"dataframe\">\n",
       "  <thead>\n",
       "    <tr style=\"text-align: right;\">\n",
       "      <th></th>\n",
       "      <th>Gender</th>\n",
       "      <th>Math score</th>\n",
       "      <th>old_reading score</th>\n",
       "      <th>Reading score</th>\n",
       "      <th>Writing score</th>\n",
       "      <th>Placement score</th>\n",
       "      <th>Club join year</th>\n",
       "      <th>Placement offer count</th>\n",
       "    </tr>\n",
       "  </thead>\n",
       "  <tbody>\n",
       "    <tr>\n",
       "      <th>0</th>\n",
       "      <td>M</td>\n",
       "      <td>64.000000</td>\n",
       "      <td>77.0</td>\n",
       "      <td>77.0</td>\n",
       "      <td>76.0</td>\n",
       "      <td>89.0</td>\n",
       "      <td>2020</td>\n",
       "      <td>1</td>\n",
       "    </tr>\n",
       "    <tr>\n",
       "      <th>1</th>\n",
       "      <td>F</td>\n",
       "      <td>65.000000</td>\n",
       "      <td>74.0</td>\n",
       "      <td>74.0</td>\n",
       "      <td>72.0</td>\n",
       "      <td>87.0</td>\n",
       "      <td>2021</td>\n",
       "      <td>2</td>\n",
       "    </tr>\n",
       "    <tr>\n",
       "      <th>2</th>\n",
       "      <td>m</td>\n",
       "      <td>63.000000</td>\n",
       "      <td>83.0</td>\n",
       "      <td>83.0</td>\n",
       "      <td>82.0</td>\n",
       "      <td>NaN</td>\n",
       "      <td>2020</td>\n",
       "      <td>1</td>\n",
       "    </tr>\n",
       "    <tr>\n",
       "      <th>3</th>\n",
       "      <td>F</td>\n",
       "      <td>65.000000</td>\n",
       "      <td>87.0</td>\n",
       "      <td>87.0</td>\n",
       "      <td>86.0</td>\n",
       "      <td>88.0</td>\n",
       "      <td>2020</td>\n",
       "      <td>1</td>\n",
       "    </tr>\n",
       "    <tr>\n",
       "      <th>4</th>\n",
       "      <td>M</td>\n",
       "      <td>64.000000</td>\n",
       "      <td>72.0</td>\n",
       "      <td>72.0</td>\n",
       "      <td>86.0</td>\n",
       "      <td>89.0</td>\n",
       "      <td>2021</td>\n",
       "      <td>1</td>\n",
       "    </tr>\n",
       "    <tr>\n",
       "      <th>5</th>\n",
       "      <td>F</td>\n",
       "      <td>78.000000</td>\n",
       "      <td>73.0</td>\n",
       "      <td>73.0</td>\n",
       "      <td>87.0</td>\n",
       "      <td>89.0</td>\n",
       "      <td>2021</td>\n",
       "      <td>2</td>\n",
       "    </tr>\n",
       "    <tr>\n",
       "      <th>6</th>\n",
       "      <td>m</td>\n",
       "      <td>67.846154</td>\n",
       "      <td>80.0</td>\n",
       "      <td>80.0</td>\n",
       "      <td>67.0</td>\n",
       "      <td>90.0</td>\n",
       "      <td>2021</td>\n",
       "      <td>1</td>\n",
       "    </tr>\n",
       "    <tr>\n",
       "      <th>7</th>\n",
       "      <td>F</td>\n",
       "      <td>62.000000</td>\n",
       "      <td>60.0</td>\n",
       "      <td>60.0</td>\n",
       "      <td>68.0</td>\n",
       "      <td>88.0</td>\n",
       "      <td>2021</td>\n",
       "      <td>1</td>\n",
       "    </tr>\n",
       "    <tr>\n",
       "      <th>8</th>\n",
       "      <td>M</td>\n",
       "      <td>66.000000</td>\n",
       "      <td>77.0</td>\n",
       "      <td>77.0</td>\n",
       "      <td>68.0</td>\n",
       "      <td>88.0</td>\n",
       "      <td>2020</td>\n",
       "      <td>1</td>\n",
       "    </tr>\n",
       "    <tr>\n",
       "      <th>9</th>\n",
       "      <td>F</td>\n",
       "      <td>75.000000</td>\n",
       "      <td>71.0</td>\n",
       "      <td>71.0</td>\n",
       "      <td>87.0</td>\n",
       "      <td>89.0</td>\n",
       "      <td>2022</td>\n",
       "      <td>1</td>\n",
       "    </tr>\n",
       "    <tr>\n",
       "      <th>10</th>\n",
       "      <td>M</td>\n",
       "      <td>76.000000</td>\n",
       "      <td>89.0</td>\n",
       "      <td>89.0</td>\n",
       "      <td>87.0</td>\n",
       "      <td>87.0</td>\n",
       "      <td>2021</td>\n",
       "      <td>1</td>\n",
       "    </tr>\n",
       "    <tr>\n",
       "      <th>11</th>\n",
       "      <td>F</td>\n",
       "      <td>64.000000</td>\n",
       "      <td>82.0</td>\n",
       "      <td>82.0</td>\n",
       "      <td>85.0</td>\n",
       "      <td>89.0</td>\n",
       "      <td>2020</td>\n",
       "      <td>2</td>\n",
       "    </tr>\n",
       "    <tr>\n",
       "      <th>12</th>\n",
       "      <td>M</td>\n",
       "      <td>79.000000</td>\n",
       "      <td>80.0</td>\n",
       "      <td>80.0</td>\n",
       "      <td>83.5</td>\n",
       "      <td>89.0</td>\n",
       "      <td>2022</td>\n",
       "      <td>2</td>\n",
       "    </tr>\n",
       "    <tr>\n",
       "      <th>13</th>\n",
       "      <td>F</td>\n",
       "      <td>61.000000</td>\n",
       "      <td>80.0</td>\n",
       "      <td>80.0</td>\n",
       "      <td>83.5</td>\n",
       "      <td>88.0</td>\n",
       "      <td>2022</td>\n",
       "      <td>2</td>\n",
       "    </tr>\n",
       "  </tbody>\n",
       "</table>\n",
       "</div>"
      ],
      "text/plain": [
       "   Gender  Math score  old_reading score  Reading score  Writing score  \\\n",
       "0       M   64.000000               77.0           77.0           76.0   \n",
       "1       F   65.000000               74.0           74.0           72.0   \n",
       "2       m   63.000000               83.0           83.0           82.0   \n",
       "3       F   65.000000               87.0           87.0           86.0   \n",
       "4       M   64.000000               72.0           72.0           86.0   \n",
       "5       F   78.000000               73.0           73.0           87.0   \n",
       "6       m   67.846154               80.0           80.0           67.0   \n",
       "7       F   62.000000               60.0           60.0           68.0   \n",
       "8       M   66.000000               77.0           77.0           68.0   \n",
       "9       F   75.000000               71.0           71.0           87.0   \n",
       "10      M   76.000000               89.0           89.0           87.0   \n",
       "11      F   64.000000               82.0           82.0           85.0   \n",
       "12      M   79.000000               80.0           80.0           83.5   \n",
       "13      F   61.000000               80.0           80.0           83.5   \n",
       "\n",
       "    Placement score  Club join year  Placement offer count  \n",
       "0              89.0            2020                      1  \n",
       "1              87.0            2021                      2  \n",
       "2               NaN            2020                      1  \n",
       "3              88.0            2020                      1  \n",
       "4              89.0            2021                      1  \n",
       "5              89.0            2021                      2  \n",
       "6              90.0            2021                      1  \n",
       "7              88.0            2021                      1  \n",
       "8              88.0            2020                      1  \n",
       "9              89.0            2022                      1  \n",
       "10             87.0            2021                      1  \n",
       "11             89.0            2020                      2  \n",
       "12             89.0            2022                      2  \n",
       "13             88.0            2022                      2  "
      ]
     },
     "execution_count": 72,
     "metadata": {},
     "output_type": "execute_result"
    }
   ],
   "source": [
    "new_df"
   ]
  },
  {
   "cell_type": "code",
   "execution_count": 73,
   "metadata": {
    "colab": {
     "base_uri": "https://localhost:8080/",
     "height": 265
    },
    "id": "XNMwt9DFvwPm",
    "outputId": "5495d23a-4ab2-4968-e75c-ed2d29999f30"
   },
   "outputs": [
    {
     "data": {
      "image/png": "[encoded data removed]",
      "text/plain": [
       "<Figure size 640x480 with 1 Axes>"
      ]
     },
     "metadata": {},
     "output_type": "display_data"
    }
   ],
   "source": [
    "plt.boxplot(new_df['Reading score'])\n",
    "plt.show()"
   ]
  },
  {
   "cell_type": "code",
   "execution_count": null,
   "metadata": {},
   "outputs": [],
   "source": []
  }
 ],
 "metadata": {
  "colab": {
   "provenance": []
  },
  "kernelspec": {
   "display_name": "Python 3 (ipykernel)",
   "language": "python",
   "name": "python3"
  },
  "language_info": {
   "codemirror_mode": {
    "name": "ipython",
    "version": 3
   },
   "file_extension": ".py",
   "mimetype": "text/x-python",
   "name": "python",
   "nbconvert_exporter": "python",
   "pygments_lexer": "ipython3",
   "version": "3.9.13"
  }
 },
 "nbformat": 4,
 "nbformat_minor": 1
}
